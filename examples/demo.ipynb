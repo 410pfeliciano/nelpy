{
 "cells": [
  {
   "cell_type": "markdown",
   "metadata": {},
   "source": [
    "# Quick `nelpy` demo"
   ]
  },
  {
   "cell_type": "markdown",
   "metadata": {},
   "source": [
    "Here we will look at a few quick ways to interact with `nelpy` obects.\n",
    "\n",
    "Let's start with the required imports."
   ]
  },
  {
   "cell_type": "code",
   "execution_count": 1,
   "metadata": {
    "collapsed": false
   },
   "outputs": [],
   "source": [
    "import numpy as np\n",
    "import matplotlib as mpl\n",
    "import matplotlib.pyplot as plt\n",
    "\n",
    "import nelpy as nel  # recommended import for nelpy\n",
    "import nelpy.plotting as npl  # recommended import for the nelpy plotting library\n",
    "\n",
    "%matplotlib inline\n",
    "\n",
    "from nelpy.objects import SpikeTrain, SpikeTrainArray, BinnedSpikeTrain, BinnedSpikeTrainArray, EpochArray"
   ]
  },
  {
   "cell_type": "code",
   "execution_count": 6,
   "metadata": {
    "collapsed": false
   },
   "outputs": [
    {
     "name": "stderr",
     "output_type": "stream",
     "text": [
      "C:\\Anaconda3\\lib\\site-packages\\nelpy\\objects.py:264: UserWarning: No sampling frequency has been specified!\n",
      "  warnings.warn(\"No sampling frequency has been specified!\")\n",
      "C:\\Anaconda3\\lib\\site-packages\\nelpy\\objects.py:253: UserWarning: meta data is not available\n",
      "  warnings.warn(\"meta data is not available\")\n"
     ]
    },
    {
     "data": {
      "text/plain": [
       "False"
      ]
     },
     "execution_count": 6,
     "metadata": {},
     "output_type": "execute_result"
    }
   ],
   "source": [
    "epocharray[::-1].issorted\n"
   ]
  },
  {
   "cell_type": "code",
   "execution_count": 2,
   "metadata": {
    "collapsed": false
   },
   "outputs": [
    {
     "data": {
      "text/plain": [
       "<matplotlib.axes._subplots.AxesSubplot at 0x9a97f60>"
      ]
     },
     "execution_count": 2,
     "metadata": {},
     "output_type": "execute_result"
    },
    {
     "data": {
      "image/png": "[encoded data removed]",
      "text/plain": [
       "<matplotlib.figure.Figure at 0x9a97710>"
      ]
     },
     "metadata": {},
     "output_type": "display_data"
    }
   ],
   "source": [
    "epocharray = EpochArray([[3,4],[5,8],[10,12], [16,20], [22,23]])\n",
    "data = [3,4,2,5,2]\n",
    "\n",
    "npl.plot(epocharray,data)\n"
   ]
  },
  {
   "cell_type": "code",
   "execution_count": 28,
   "metadata": {
    "collapsed": false
   },
   "outputs": [
    {
     "data": {
      "text/plain": [
       "<empty EpochArray>"
      ]
     },
     "execution_count": 28,
     "metadata": {},
     "output_type": "execute_result"
    }
   ],
   "source": [
    "epocharray[40]"
   ]
  },
  {
   "cell_type": "code",
   "execution_count": 27,
   "metadata": {
    "collapsed": false
   },
   "outputs": [
    {
     "name": "stderr",
     "output_type": "stream",
     "text": [
      "C:\\Users\\etien\\Anaconda3\\lib\\site-packages\\nelpy\\objects.py:267: UserWarning: No sampling frequency has been specified!\n",
      "  warnings.warn(\"No sampling frequency has been specified!\")\n",
      "C:\\Users\\etien\\Anaconda3\\lib\\site-packages\\nelpy\\objects.py:256: UserWarning: meta data is not available\n",
      "  warnings.warn(\"meta data is not available\")\n"
     ]
    },
    {
     "data": {
      "text/plain": [
       "array([[ 5,  8],\n",
       "       [16, 20]])"
      ]
     },
     "execution_count": 27,
     "metadata": {},
     "output_type": "execute_result"
    }
   ],
   "source": [
    "epocharray[1::2].time"
   ]
  },
  {
   "cell_type": "code",
   "execution_count": 17,
   "metadata": {
    "collapsed": false
   },
   "outputs": [
    {
     "name": "stdout",
     "output_type": "stream",
     "text": [
      "<EpochArray: 1 epoch> totaling 1 seconds\n",
      "<EpochArray: 1 epoch> totaling 3 seconds\n",
      "<EpochArray: 1 epoch> totaling 2 seconds\n",
      "<EpochArray: 1 epoch> totaling 4 seconds\n",
      "<EpochArray: 1 epoch> totaling 1 seconds\n"
     ]
    }
   ],
   "source": [
    "for epoch in epocharray:\n",
    "    print(epoch)"
   ]
  },
  {
   "cell_type": "code",
   "execution_count": 29,
   "metadata": {
    "collapsed": false
   },
   "outputs": [],
   "source": [
    "# create some synthetic data\n",
    "\n",
    "stdata = [5,12,14,15,16,18,23,25,32]  # spike times in sample numbers\n",
    "st = SpikeTrain(stdata, fs=5)  # here we assume a sampling rate / frequency of 5 Hz"
   ]
  },
  {
   "cell_type": "code",
   "execution_count": 50,
   "metadata": {
    "collapsed": false
   },
   "outputs": [
    {
     "data": {
      "text/plain": [
       "array([  1.66666667,   4.        ,   4.66666667,   5.        ,\n",
       "         5.33333333,   6.        ,   7.66666667,   8.33333333,  10.66666667])"
      ]
     },
     "execution_count": 50,
     "metadata": {},
     "output_type": "execute_result"
    }
   ],
   "source": [
    "st = SpikeTrain(stdata, fs=3)\n",
    "st.time"
   ]
  },
  {
   "cell_type": "code",
   "execution_count": 49,
   "metadata": {
    "collapsed": false
   },
   "outputs": [
    {
     "data": {
      "text/plain": [
       "array([[ 3,  4],\n",
       "       [ 5,  8],\n",
       "       [10, 12],\n",
       "       [16, 20],\n",
       "       [22, 23]])"
      ]
     },
     "execution_count": 49,
     "metadata": {},
     "output_type": "execute_result"
    }
   ],
   "source": [
    "epocharray.time"
   ]
  },
  {
   "cell_type": "code",
   "execution_count": 52,
   "metadata": {
    "collapsed": false
   },
   "outputs": [
    {
     "name": "stderr",
     "output_type": "stream",
     "text": [
      "C:\\Users\\etien\\Anaconda3\\lib\\site-packages\\nelpy\\objects.py:1004: UserWarning: ignoring spikes outside of spiketrain support\n",
      "  'ignoring spikes outside of spiketrain support')\n"
     ]
    }
   ],
   "source": [
    "st = SpikeTrain(stdata, fs=3, support=epocharray)"
   ]
  },
  {
   "cell_type": "code",
   "execution_count": 53,
   "metadata": {
    "collapsed": false
   },
   "outputs": [
    {
     "data": {
      "text/plain": [
       "array([  4.        ,   5.        ,   5.33333333,   6.        ,\n",
       "         7.66666667,  10.66666667])"
      ]
     },
     "execution_count": 53,
     "metadata": {},
     "output_type": "execute_result"
    }
   ],
   "source": [
    "nel."
   ]
  },
  {
   "cell_type": "code",
   "execution_count": 56,
   "metadata": {
    "collapsed": false
   },
   "outputs": [
    {
     "data": {
      "text/plain": [
       "<BinnedSpikeTrain: 88 bins of width 125.0 ms> for a total of 11.0 seconds."
      ]
     },
     "execution_count": 56,
     "metadata": {},
     "output_type": "execute_result"
    }
   ],
   "source": [
    "st.bin(ds=0.125)"
   ]
  },
  {
   "cell_type": "code",
   "execution_count": 48,
   "metadata": {
    "collapsed": false
   },
   "outputs": [
    {
     "data": {
      "text/plain": [
       "<SpikeTrain[pyr]: 9 spikes at 5 Hz>"
      ]
     },
     "execution_count": 48,
     "metadata": {},
     "output_type": "execute_result"
    }
   ],
   "source": [
    "st.fs = 5\n",
    "st.time\n",
    "st"
   ]
  },
  {
   "cell_type": "code",
   "execution_count": 32,
   "metadata": {
    "collapsed": false
   },
   "outputs": [],
   "source": [
    "st.cell_type = 'pyr'"
   ]
  },
  {
   "cell_type": "code",
   "execution_count": 40,
   "metadata": {
    "collapsed": false
   },
   "outputs": [
    {
     "data": {
      "text/plain": [
       "<EpochArray: 1 epoch> totaling 6.4 seconds"
      ]
     },
     "execution_count": 40,
     "metadata": {},
     "output_type": "execute_result"
    }
   ],
   "source": [
    "st.support"
   ]
  },
  {
   "cell_type": "code",
   "execution_count": 6,
   "metadata": {
    "collapsed": false
   },
   "outputs": [
    {
     "name": "stderr",
     "output_type": "stream",
     "text": [
      "C:\\Users\\etien\\Anaconda3\\lib\\site-packages\\nelpy\\objects.py:1127: UserWarning: meta data is not available\n",
      "  warnings.warn(\"meta data is not available\")\n"
     ]
    },
    {
     "data": {
      "text/plain": [
       "<EpochArray: 1 epoch> totaling 1.8 seconds"
      ]
     },
     "execution_count": 6,
     "metadata": {},
     "output_type": "execute_result"
    }
   ],
   "source": [
    "st[:3].support"
   ]
  },
  {
   "cell_type": "code",
   "execution_count": 7,
   "metadata": {
    "collapsed": false
   },
   "outputs": [
    {
     "data": {
      "text/plain": [
       "<empty SpikeTrain>"
      ]
     },
     "execution_count": 7,
     "metadata": {},
     "output_type": "execute_result"
    }
   ],
   "source": [
    "st[40]"
   ]
  },
  {
   "cell_type": "code",
   "execution_count": 8,
   "metadata": {
    "collapsed": false
   },
   "outputs": [
    {
     "data": {
      "text/plain": [
       "<empty EpochArray>"
      ]
     },
     "execution_count": 8,
     "metadata": {},
     "output_type": "execute_result"
    }
   ],
   "source": [
    "st[40].support"
   ]
  },
  {
   "cell_type": "code",
   "execution_count": 13,
   "metadata": {
    "collapsed": false
   },
   "outputs": [
    {
     "name": "stdout",
     "output_type": "stream",
     "text": [
      "<SpikeTrain[pyr]: 1 spikes at 5 Hz>\n",
      "<SpikeTrain[pyr]: 1 spikes at 5 Hz>\n",
      "<SpikeTrain[pyr]: 1 spikes at 5 Hz>\n",
      "<SpikeTrain[pyr]: 1 spikes at 5 Hz>\n",
      "<SpikeTrain[pyr]: 1 spikes at 5 Hz>\n",
      "<SpikeTrain[pyr]: 1 spikes at 5 Hz>\n",
      "<SpikeTrain[pyr]: 1 spikes at 5 Hz>\n",
      "<SpikeTrain[pyr]: 1 spikes at 5 Hz>\n",
      "<SpikeTrain[pyr]: 1 spikes at 5 Hz>\n"
     ]
    },
    {
     "name": "stderr",
     "output_type": "stream",
     "text": [
      "C:\\Users\\etien\\Anaconda3\\lib\\site-packages\\nelpy\\objects.py:1127: UserWarning: meta data is not available\n",
      "  warnings.warn(\"meta data is not available\")\n"
     ]
    }
   ],
   "source": [
    "for spk in st:\n",
    "    print(spk)"
   ]
  },
  {
   "cell_type": "code",
   "execution_count": 9,
   "metadata": {
    "collapsed": false
   },
   "outputs": [
    {
     "name": "stderr",
     "output_type": "stream",
     "text": [
      "C:\\Users\\etien\\Anaconda3\\lib\\site-packages\\nelpy\\objects.py:1127: UserWarning: meta data is not available\n",
      "  warnings.warn(\"meta data is not available\")\n"
     ]
    },
    {
     "data": {
      "text/plain": [
       "array([ 6.4,  5. ,  4.6,  3.6,  3.2,  3. ,  2.8,  2.4,  1. ])"
      ]
     },
     "execution_count": 9,
     "metadata": {},
     "output_type": "execute_result"
    }
   ],
   "source": [
    "st[::-1].time"
   ]
  },
  {
   "cell_type": "code",
   "execution_count": 10,
   "metadata": {
    "collapsed": false
   },
   "outputs": [
    {
     "name": "stderr",
     "output_type": "stream",
     "text": [
      "C:\\Users\\etien\\Anaconda3\\lib\\site-packages\\nelpy\\objects.py:1127: UserWarning: meta data is not available\n",
      "  warnings.warn(\"meta data is not available\")\n"
     ]
    },
    {
     "data": {
      "text/plain": [
       "array([ 1. ,  3. ,  4.6])"
      ]
     },
     "execution_count": 10,
     "metadata": {},
     "output_type": "execute_result"
    }
   ],
   "source": [
    "st[::3].time"
   ]
  },
  {
   "cell_type": "code",
   "execution_count": 11,
   "metadata": {
    "collapsed": true
   },
   "outputs": [],
   "source": [
    "# create example spike times in samples\n",
    "stdata = np.array([1, 2, 3, 4, 5, 6, 6.5, 7, 8, 10, 18, 18.5, 23, 25])\n",
    "st = SpikeTrain(stdata, fs=10)"
   ]
  },
  {
   "cell_type": "code",
   "execution_count": 12,
   "metadata": {
    "collapsed": false
   },
   "outputs": [
    {
     "name": "stderr",
     "output_type": "stream",
     "text": [
      "C:\\Users\\etien\\Anaconda3\\lib\\site-packages\\nelpy\\objects.py:1597: UserWarning: no bin size was given, assuming 62.5 ms\n",
      "  warnings.warn('no bin size was given, assuming 62.5 ms')\n",
      "C:\\Users\\etien\\Anaconda3\\lib\\site-packages\\nelpy\\objects.py:230: UserWarning: meta data is not available\n",
      "  warnings.warn(\"meta data is not available\")\n"
     ]
    }
   ],
   "source": [
    "bst = BinnedSpikeTrain(st)"
   ]
  },
  {
   "cell_type": "code",
   "execution_count": 13,
   "metadata": {
    "collapsed": false
   },
   "outputs": [
    {
     "data": {
      "text/plain": [
       "array([0, 1, 0, 1, 1, 0, 1, 0, 1, 1, 1, 1, 1, 0, 0, 0, 1, 0, 0, 0, 0, 0, 0,\n",
       "       0, 0, 0, 0, 0, 1, 1, 0, 0, 0, 0, 0, 0, 1, 0, 0, 1])"
      ]
     },
     "execution_count": 13,
     "metadata": {},
     "output_type": "execute_result"
    }
   ],
   "source": [
    "bst.n_active"
   ]
  },
  {
   "cell_type": "code",
   "execution_count": 14,
   "metadata": {
    "collapsed": false
   },
   "outputs": [
    {
     "name": "stdout",
     "output_type": "stream",
     "text": [
      "The duration of st.support is 2.5 seconds.\n",
      "Average firing rate: 5.6 Hz\n"
     ]
    }
   ],
   "source": [
    "print('The duration of st.support is {0:2.4} seconds.'.format(st.support.duration))\n",
    "avgFiringRate = st.n_spikes / st.support.duration\n",
    "print('Average firing rate: {0:2.4} Hz'.format(avgFiringRate))"
   ]
  },
  {
   "cell_type": "code",
   "execution_count": 15,
   "metadata": {
    "collapsed": false
   },
   "outputs": [
    {
     "data": {
      "text/plain": [
       "array([ 0.    ,  0.0625,  0.125 ,  0.1875,  0.25  ,  0.3125,  0.375 ,\n",
       "        0.4375,  0.5   ,  0.5625,  0.625 ,  0.6875,  0.75  ,  0.8125,\n",
       "        0.875 ,  0.9375,  1.    ,  1.0625,  1.125 ,  1.1875,  1.25  ,\n",
       "        1.3125,  1.375 ,  1.4375,  1.5   ,  1.5625,  1.625 ,  1.6875,\n",
       "        1.75  ,  1.8125,  1.875 ,  1.9375,  2.    ,  2.0625,  2.125 ,\n",
       "        2.1875,  2.25  ,  2.3125,  2.375 ,  2.4375,  2.5   ])"
      ]
     },
     "execution_count": 15,
     "metadata": {},
     "output_type": "execute_result"
    }
   ],
   "source": [
    "bst.bins  # can be an EventArray to draw bin edges"
   ]
  },
  {
   "cell_type": "code",
   "execution_count": 16,
   "metadata": {
    "collapsed": false
   },
   "outputs": [
    {
     "data": {
      "text/plain": [
       "array([ 0.03125,  0.09375,  0.15625,  0.21875,  0.28125,  0.34375,\n",
       "        0.40625,  0.46875,  0.53125,  0.59375,  0.65625,  0.71875,\n",
       "        0.78125,  0.84375,  0.90625,  0.96875,  1.03125,  1.09375,\n",
       "        1.15625,  1.21875,  1.28125,  1.34375,  1.40625,  1.46875,\n",
       "        1.53125,  1.59375,  1.65625,  1.71875,  1.78125,  1.84375,\n",
       "        1.90625,  1.96875,  2.03125,  2.09375,  2.15625,  2.21875,\n",
       "        2.28125,  2.34375,  2.40625,  2.46875])"
      ]
     },
     "execution_count": 16,
     "metadata": {},
     "output_type": "execute_result"
    }
   ],
   "source": [
    "bst.centers"
   ]
  },
  {
   "cell_type": "code",
   "execution_count": 17,
   "metadata": {
    "collapsed": false
   },
   "outputs": [
    {
     "name": "stderr",
     "output_type": "stream",
     "text": [
      "C:\\Users\\etien\\Anaconda3\\lib\\site-packages\\nelpy\\objects.py:972: UserWarning: ignoring spikes outside of spiketrain support\n",
      "  'ignoring spikes outside of spiketrain support')\n"
     ]
    }
   ],
   "source": [
    "runEpoch = EpochArray(np.array([[0,3],[6,8], [24,25]]), fs=10)\n",
    "\n",
    "st = SpikeTrain(stdata, fs=10, support=runEpoch)"
   ]
  },
  {
   "cell_type": "code",
   "execution_count": 18,
   "metadata": {
    "collapsed": false
   },
   "outputs": [
    {
     "data": {
      "text/plain": [
       "array([[ 0. ,  0.3],\n",
       "       [ 0.6,  0.8],\n",
       "       [ 2.4,  2.5]])"
      ]
     },
     "execution_count": 18,
     "metadata": {},
     "output_type": "execute_result"
    }
   ],
   "source": [
    "st.support.time"
   ]
  },
  {
   "cell_type": "code",
   "execution_count": 20,
   "metadata": {
    "collapsed": false
   },
   "outputs": [
    {
     "data": {
      "text/plain": [
       "array([ 0.3,  0.2,  0.1])"
      ]
     },
     "execution_count": 20,
     "metadata": {},
     "output_type": "execute_result"
    }
   ],
   "source": [
    "st.support.durations"
   ]
  },
  {
   "cell_type": "code",
   "execution_count": 21,
   "metadata": {
    "collapsed": false
   },
   "outputs": [
    {
     "name": "stdout",
     "output_type": "stream",
     "text": [
      "SpikeTrain\n",
      "==========\n",
      "<SpikeTrain[pyr]: 10 spikes at 4 Hz> <EpochArray: 1 epoch> totaling 2.5 seconds\n",
      "\n",
      "slicing with slice objects and integers\n",
      "==========\n",
      "<SpikeTrain[pyr]: 4 spikes at 4 Hz> <EpochArray: 1 epoch> totaling 0.75 seconds\n",
      "<SpikeTrain[pyr]: 6 spikes at 4 Hz> <EpochArray: 1 epoch> totaling 1.25 seconds\n",
      "<SpikeTrain[pyr]: 6 spikes at 4 Hz> <EpochArray: 1 epoch> totaling 1.25 seconds\n",
      "<empty SpikeTrain> <empty EpochArray>\n",
      "<SpikeTrain[pyr]: 1 spikes at 4 Hz> <EpochArray: 1 epoch> totaling 0.0 seconds\n",
      "<empty SpikeTrain> <empty EpochArray>\n",
      "\n",
      "slicing with EpochArrays\n",
      "==========\n",
      "<empty SpikeTrain> <empty EpochArray>\n",
      "<SpikeTrain[pyr]: 6 spikes at 4 Hz> <EpochArray: 2 epochs> totaling 1.5 seconds\n",
      "<SpikeTrain[pyr]: 5 spikes at 4 Hz> <EpochArray: 2 epochs> totaling 1.25 seconds\n",
      "<SpikeTrain[pyr]: 3 spikes at 4 Hz> <EpochArray: 1 epoch> totaling 0.75 seconds\n",
      "<empty SpikeTrain> <empty EpochArray>\n",
      "<empty SpikeTrain> <empty EpochArray>\n"
     ]
    },
    {
     "name": "stderr",
     "output_type": "stream",
     "text": [
      "C:\\Users\\etien\\Anaconda3\\lib\\site-packages\\nelpy\\objects.py:1127: UserWarning: meta data is not available\n",
      "  warnings.warn(\"meta data is not available\")\n",
      "C:\\Users\\etien\\Anaconda3\\lib\\site-packages\\nelpy\\objects.py:230: UserWarning: meta data is not available\n",
      "  warnings.warn(\"meta data is not available\")\n"
     ]
    }
   ],
   "source": [
    "stdata = np.array([1,2,3,4,5,6,6.5,7,8,10])\n",
    "fs = 4\n",
    "st = SpikeTrain(stdata, fs=fs)\n",
    "st.cell_type = 'pyr'\n",
    "ep1 = EpochArray([])\n",
    "ep2 = EpochArray(np.array([[0,3],[7,10]]), fs=fs)\n",
    "ep3 = EpochArray(np.array([[0,3],[8,15]]), fs=fs)\n",
    "ep4 = EpochArray(np.array([[0,3],[17,20]]), fs=fs)\n",
    "ep5 = EpochArray(np.array([[17,20]]), fs=fs)\n",
    "ep6 = EpochArray(np.array([[-17,-10]]), fs=fs)\n",
    "print('SpikeTrain')\n",
    "print('==========')\n",
    "print(st, st.support)\n",
    "print('\\nslicing with slice objects and integers')\n",
    "print('==========')\n",
    "print(st[:4], st[:4].support)\n",
    "print(st[4:], st[4:].support)\n",
    "print(st[4:50], st[4:50].support)\n",
    "print(st[40:], st[40:].support)\n",
    "print(st[-1], st[-1].support)\n",
    "print(st[80], st[80].support)\n",
    "print('\\nslicing with EpochArrays')\n",
    "print('==========')\n",
    "print(st[ep1], st[ep1].support)\n",
    "print(st[ep2], st[ep2].support)\n",
    "print(st[ep3], st[ep3].support)\n",
    "print(st[ep4], st[ep4].support)\n",
    "print(st[ep5], st[ep5].support)\n",
    "print(st[ep6], st[ep6].support)"
   ]
  },
  {
   "cell_type": "code",
   "execution_count": null,
   "metadata": {
    "collapsed": true
   },
   "outputs": [],
   "source": [
    "stdata1 = [1,2,4,5,6,10,20]\n",
    "stdata2 = [3,4,4.5,5,5.5,19]\n",
    "stdata3 = [5,12,14,15,16,18,22,23,24]\n",
    "stdata4 = [5,12,14,15,16,18,23,25,32]\n",
    "\n",
    "ep1 = nel.EpochArray([[0.8, 2.8], [4.5,5]], fs=1)\n",
    "# ep1 = EpochArray([[0.8, 2.8]], fs=1)\n",
    "\n",
    "sta1 = nel.SpikeTrainArray([stdata1, stdata2, stdata3, stdata4, stdata1+stdata4], fs=5)\n",
    "sta2 = nel.SpikeTrainArray([stdata1, stdata2, stdata3, stdata4, stdata1+stdata4], support=ep1, fs=5)\n",
    "\n",
    "npl.plot(sta1, cmap=plt.cm.Blues, lw=3)\n",
    "npl.plot(sta2, cmap=plt.cm.gray, lw=3)\n",
    "npl.plot(sta2.support)"
   ]
  },
  {
   "cell_type": "code",
   "execution_count": null,
   "metadata": {
    "collapsed": true
   },
   "outputs": [],
   "source": []
  }
 ],
 "metadata": {
  "anaconda-cloud": {},
  "kernelspec": {
   "display_name": "Python [conda root]",
   "language": "python",
   "name": "conda-root-py"
  },
  "language_info": {
   "codemirror_mode": {
    "name": "ipython",
    "version": 3
   },
   "file_extension": ".py",
   "mimetype": "text/x-python",
   "name": "python",
   "nbconvert_exporter": "python",
   "pygments_lexer": "ipython3",
   "version": "3.4.4"
  }
 },
 "nbformat": 4,
 "nbformat_minor": 1
}
