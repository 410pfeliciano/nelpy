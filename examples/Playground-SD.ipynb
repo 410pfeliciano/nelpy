{
 "cells": [
  {
   "cell_type": "code",
   "execution_count": 1,
   "metadata": {
    "collapsed": false
   },
   "outputs": [],
   "source": [
    "import numpy as np\n",
    "from scipy import interpolate\n",
    "import matplotlib as mpl\n",
    "import matplotlib.pyplot as plt\n",
    "import scipy.io\n",
    "\n",
    "import nelpy as nel  # recommended import for nelpy\n",
    "import nelpy.plotting as npl  # recommended import for the nelpy plotting library\n",
    "\n",
    "%matplotlib inline\n",
    "\n",
    "from nelpy import EpochArray, AnalogSignalArray, SpikeTrainArray, BinnedSpikeTrainArray"
   ]
  },
  {
   "cell_type": "code",
   "execution_count": 2,
   "metadata": {
    "collapsed": false,
    "scrolled": true
   },
   "outputs": [
    {
     "data": {
      "text/plain": [
       "<module 'nelpy' from '/home/shayok/Documents/Code/nelpy/nelpy/__init__.py'>"
      ]
     },
     "execution_count": 2,
     "metadata": {},
     "output_type": "execute_result"
    }
   ],
   "source": [
    "nel"
   ]
  },
  {
   "cell_type": "markdown",
   "metadata": {},
   "source": [
    "# TODO\n",
    "1. Look at SpikeTrainArray<br>\n",
    "2. Implement remaining \"Stuff to add\" <br>\n",
    "3. Scrutinize ASA in terms of efficiency and check for obvious improvements<br>\n",
    "4. Push changes!<br>\n",
    "5. Test out filtering stuff<br>\n",
    "6. Add in ripple detection functions <br>\n",
    "7. Add in Trodes data extraction <br>"
   ]
  },
  {
   "cell_type": "markdown",
   "metadata": {},
   "source": [
    "# Stuff to add\n",
    "- support single values ASA([1]) -- DONE!<br>\n",
    "- empty values ASA([]) -- FIXED!<br>\n",
    "- out of bounds errors! -- FIXED!<br>\n",
    "- Subset functionality https://github.com/eackermann/nelpy/issues/126<br>\n",
    "- mean, std, min, max, with axis flag https://github.com/eackermann/nelpy/issues/127 -- DONE!<br>\n",
    "- empty object pattern and attributes....https://github.com/eackermann/nelpy/issues/85"
   ]
  },
  {
   "cell_type": "markdown",
   "metadata": {},
   "source": [
    "# Bugs found\n",
    "- Time for multidimensional data without timestamps or time stamps in seconds provided may not have been calculated correctly -- FIXED <br><br>"
   ]
  },
  {
   "cell_type": "markdown",
   "metadata": {},
   "source": [
    "# Basic AnalogSignalArray Functionality"
   ]
  },
  {
   "cell_type": "markdown",
   "metadata": {},
   "source": [
    "## Just tryin to break it a lil bit"
   ]
  },
  {
   "cell_type": "code",
   "execution_count": 3,
   "metadata": {
    "collapsed": false
   },
   "outputs": [
    {
     "data": {
      "text/plain": [
       "<empty AnalogSignal at 0x7fd62c15bc50>"
      ]
     },
     "execution_count": 3,
     "metadata": {},
     "output_type": "execute_result"
    }
   ],
   "source": [
    "my_lfp = AnalogSignalArray([])\n",
    "# my_lfp.ydata\n",
    "# my_lfp.support\n",
    "my_lfp"
   ]
  },
  {
   "cell_type": "code",
   "execution_count": 4,
   "metadata": {
    "collapsed": false
   },
   "outputs": [
    {
     "ename": "TypeError",
     "evalue": "Unsupported type! integer or floating point expected",
     "output_type": "error",
     "traceback": [
      "\u001b[1;31m---------------------------------------------------------------------------\u001b[0m",
      "\u001b[1;31mValueError\u001b[0m                                Traceback (most recent call last)",
      "\u001b[1;32m/home/shayok/Documents/Code/nelpy/nelpy/objects.py\u001b[0m in \u001b[0;36m__init__\u001b[1;34m(self, ydata, tdata, fs, support, step, fs_meta, empty)\u001b[0m\n\u001b[0;32m   1361\u001b[0m             \u001b[1;32melse\u001b[0m\u001b[1;33m:\u001b[0m\u001b[1;33m\u001b[0m\u001b[0m\n\u001b[1;32m-> 1362\u001b[1;33m                 \u001b[0mydata\u001b[0m \u001b[1;33m=\u001b[0m \u001b[0mnp\u001b[0m\u001b[1;33m.\u001b[0m\u001b[0marray\u001b[0m\u001b[1;33m(\u001b[0m\u001b[0mydata\u001b[0m\u001b[1;33m)\u001b[0m\u001b[1;33m.\u001b[0m\u001b[0mastype\u001b[0m\u001b[1;33m(\u001b[0m\u001b[0mfloat\u001b[0m\u001b[1;33m)\u001b[0m\u001b[1;33m\u001b[0m\u001b[0m\n\u001b[0m\u001b[0;32m   1363\u001b[0m         \u001b[1;32mexcept\u001b[0m \u001b[0mValueError\u001b[0m\u001b[1;33m:\u001b[0m\u001b[1;33m\u001b[0m\u001b[0m\n",
      "\u001b[1;31mValueError\u001b[0m: could not convert string to float: 'a'",
      "\nDuring handling of the above exception, another exception occurred:\n",
      "\u001b[1;31mTypeError\u001b[0m                                 Traceback (most recent call last)",
      "\u001b[1;32m<ipython-input-4-0f79127b86c0>\u001b[0m in \u001b[0;36m<module>\u001b[1;34m()\u001b[0m\n\u001b[1;32m----> 1\u001b[1;33m \u001b[0masa\u001b[0m \u001b[1;33m=\u001b[0m \u001b[0mAnalogSignalArray\u001b[0m\u001b[1;33m(\u001b[0m\u001b[1;33m[\u001b[0m\u001b[1;34m'a'\u001b[0m\u001b[1;33m]\u001b[0m\u001b[1;33m)\u001b[0m\u001b[1;33m\u001b[0m\u001b[0m\n\u001b[0m\u001b[0;32m      2\u001b[0m \u001b[0masa\u001b[0m\u001b[1;33m\u001b[0m\u001b[0m\n",
      "\u001b[1;32m/home/shayok/Documents/Code/nelpy/nelpy/objects.py\u001b[0m in \u001b[0;36m__init__\u001b[1;34m(self, ydata, tdata, fs, support, step, fs_meta, empty)\u001b[0m\n\u001b[0;32m   1362\u001b[0m                 \u001b[0mydata\u001b[0m \u001b[1;33m=\u001b[0m \u001b[0mnp\u001b[0m\u001b[1;33m.\u001b[0m\u001b[0marray\u001b[0m\u001b[1;33m(\u001b[0m\u001b[0mydata\u001b[0m\u001b[1;33m)\u001b[0m\u001b[1;33m.\u001b[0m\u001b[0mastype\u001b[0m\u001b[1;33m(\u001b[0m\u001b[0mfloat\u001b[0m\u001b[1;33m)\u001b[0m\u001b[1;33m\u001b[0m\u001b[0m\n\u001b[0;32m   1363\u001b[0m         \u001b[1;32mexcept\u001b[0m \u001b[0mValueError\u001b[0m\u001b[1;33m:\u001b[0m\u001b[1;33m\u001b[0m\u001b[0m\n\u001b[1;32m-> 1364\u001b[1;33m             \u001b[1;32mraise\u001b[0m \u001b[0mTypeError\u001b[0m\u001b[1;33m(\u001b[0m\u001b[1;34m\"Unsupported type! integer or floating point expected\"\u001b[0m\u001b[1;33m)\u001b[0m\u001b[1;33m\u001b[0m\u001b[0m\n\u001b[0m\u001b[0;32m   1365\u001b[0m         \u001b[0mydata\u001b[0m \u001b[1;33m=\u001b[0m \u001b[0mnp\u001b[0m\u001b[1;33m.\u001b[0m\u001b[0mtranspose\u001b[0m\u001b[1;33m(\u001b[0m\u001b[0mydata\u001b[0m\u001b[1;33m)\u001b[0m\u001b[1;33m\u001b[0m\u001b[0m\n\u001b[0;32m   1366\u001b[0m         \u001b[0mself\u001b[0m\u001b[1;33m.\u001b[0m\u001b[0m_step\u001b[0m \u001b[1;33m=\u001b[0m \u001b[0mstep\u001b[0m\u001b[1;33m\u001b[0m\u001b[0m\n",
      "\u001b[1;31mTypeError\u001b[0m: Unsupported type! integer or floating point expected"
     ]
    }
   ],
   "source": [
    "asa = AnalogSignalArray(['a'])\n",
    "asa"
   ]
  },
  {
   "cell_type": "code",
   "execution_count": 5,
   "metadata": {
    "collapsed": false
   },
   "outputs": [
    {
     "name": "stderr",
     "output_type": "stream",
     "text": [
      "/home/shayok/Documents/Code/nelpy/nelpy/objects.py:1452: UserWarning: support created with given ydata! support is entire signal\n"
     ]
    },
    {
     "data": {
      "text/plain": [
       "2.0"
      ]
     },
     "execution_count": 5,
     "metadata": {},
     "output_type": "execute_result"
    }
   ],
   "source": [
    "asa = AnalogSignalArray([1,2,3])\n",
    "asa.support.duration"
   ]
  },
  {
   "cell_type": "code",
   "execution_count": 6,
   "metadata": {
    "collapsed": false
   },
   "outputs": [
    {
     "name": "stdout",
     "output_type": "stream",
     "text": [
      "[ 1.  2.  3.]\n",
      "[ 0.  0.  0.]\n",
      "[ 1.  2.  3.]\n",
      "[ 1.  2.  3.]\n"
     ]
    },
    {
     "name": "stderr",
     "output_type": "stream",
     "text": [
      "/home/shayok/Documents/Code/nelpy/nelpy/objects.py:1452: UserWarning: support created with given ydata! support is entire signal\n"
     ]
    },
    {
     "data": {
      "text/plain": [
       "<AnalogSignalArray at 0x7fd5fc3312e8: 3 signals> for a total of 0 milliseconds"
      ]
     },
     "execution_count": 6,
     "metadata": {},
     "output_type": "execute_result"
    }
   ],
   "source": [
    "asa = AnalogSignalArray([[1],[2],[3]])\n",
    "print(asa.mean())\n",
    "print(asa.std())\n",
    "print(asa.min())\n",
    "print(asa.max())\n",
    "asa"
   ]
  },
  {
   "cell_type": "markdown",
   "metadata": {},
   "source": [
    "## Ting Data"
   ]
  },
  {
   "cell_type": "code",
   "execution_count": 7,
   "metadata": {
    "collapsed": false
   },
   "outputs": [],
   "source": [
    "tingData = scipy.io.loadmat(\"/home/shayok/Downloads/simiplified(Newton, 2015-03-11_15-09-22).mat\")\n",
    "eeg = tingData[\"eeg\"]\n",
    "eegTimeStamps = tingData[\"eegtimestamp\"]"
   ]
  },
  {
   "cell_type": "code",
   "execution_count": 8,
   "metadata": {
    "collapsed": false
   },
   "outputs": [
    {
     "data": {
      "image/png": "[encoded data removed]",
      "text/plain": [
       "<matplotlib.figure.Figure at 0x7fd61126a7f0>"
      ]
     },
     "metadata": {},
     "output_type": "display_data"
    }
   ],
   "source": [
    "plt.plot(eegTimeStamps, eeg)\n",
    "plt.show()"
   ]
  },
  {
   "cell_type": "code",
   "execution_count": 9,
   "metadata": {
    "collapsed": false
   },
   "outputs": [
    {
     "name": "stderr",
     "output_type": "stream",
     "text": [
      "/home/shayok/Documents/Code/nelpy/nelpy/objects.py:1426: UserWarning: support created with just tdata! no sampling rate specified so support is entire range of signal\n",
      "/home/shayok/Documents/Code/nelpy/nelpy/utils.py:119: UserWarning: some steps in the data are smaller than the requested step size.\n"
     ]
    },
    {
     "data": {
      "image/png": "[encoded data removed]",
      "text/plain": [
       "<matplotlib.figure.Figure at 0x7fd5fc2bd828>"
      ]
     },
     "metadata": {},
     "output_type": "display_data"
    },
    {
     "data": {
      "text/plain": [
       "<AnalogSignalArray at 0x7fd5fc2bde48: 1 signals (13 segments)> for a total of 46:24.593 minutes"
      ]
     },
     "execution_count": 9,
     "metadata": {},
     "output_type": "execute_result"
    },
    {
     "data": {
      "image/png": "[encoded data removed]",
      "text/plain": [
       "<matplotlib.figure.Figure at 0x7fd5fc2e1390>"
      ]
     },
     "metadata": {},
     "output_type": "display_data"
    }
   ],
   "source": [
    "my_time_series = AnalogSignalArray([eeg],tdata=eegTimeStamps,)\n",
    "npl.plot(my_time_series)\n",
    "plt.show()\n",
    "plt.plot(eegTimeStamps, eeg)\n",
    "my_time_series"
   ]
  },
  {
   "cell_type": "code",
   "execution_count": 10,
   "metadata": {
    "collapsed": false
   },
   "outputs": [
    {
     "data": {
      "text/plain": [
       "array([ 105.69602911,  402.65272911,  402.65282911,    5.28442911,\n",
       "         92.35812911,   14.09242911,  402.65282911,  402.65282911,\n",
       "         54.86102911,   44.54312911,  402.90442911,  402.65272911,\n",
       "         51.58952911])"
      ]
     },
     "execution_count": 10,
     "metadata": {},
     "output_type": "execute_result"
    }
   ],
   "source": [
    "my_time_series.support.durations"
   ]
  },
  {
   "cell_type": "code",
   "execution_count": 11,
   "metadata": {
    "collapsed": false
   },
   "outputs": [
    {
     "name": "stderr",
     "output_type": "stream",
     "text": [
      "/home/shayok/Documents/Code/nelpy/nelpy/objects.py:65: UserWarning: No sampling frequency has been specified!\n",
      "/home/shayok/Documents/Code/nelpy/nelpy/objects.py:824: UserWarning: meta data is not available\n"
     ]
    },
    {
     "data": {
      "text/plain": [
       "<EpochArray at 0x7fd61126ab38: 4 epochs> of duration 46:24.597 minutes"
      ]
     },
     "execution_count": 11,
     "metadata": {},
     "output_type": "execute_result"
    }
   ],
   "source": [
    "my_time_series.support.merge(gap=0.1)"
   ]
  },
  {
   "cell_type": "code",
   "execution_count": 12,
   "metadata": {
    "collapsed": false
   },
   "outputs": [
    {
     "name": "stderr",
     "output_type": "stream",
     "text": [
      "/home/shayok/Documents/Code/nelpy/nelpy/objects.py:65: UserWarning: No sampling frequency has been specified!\n",
      "/home/shayok/Documents/Code/nelpy/nelpy/objects.py:824: UserWarning: meta data is not available\n"
     ]
    },
    {
     "data": {
      "text/plain": [
       "array([ 916.28722911,   92.35812911,  874.26022911,  901.69102911])"
      ]
     },
     "execution_count": 12,
     "metadata": {},
     "output_type": "execute_result"
    }
   ],
   "source": [
    "my_time_series._support = my_time_series.support.merge(gap=0.1)\n",
    "my_time_series.support.durations"
   ]
  },
  {
   "cell_type": "code",
   "execution_count": 13,
   "metadata": {
    "collapsed": false
   },
   "outputs": [
    {
     "data": {
      "text/plain": [
       "<AnalogSignalArray at 0x7fd5fc2bde48: 1 signals (4 segments)> for a total of 46:24.597 minutes"
      ]
     },
     "execution_count": 13,
     "metadata": {},
     "output_type": "execute_result"
    }
   ],
   "source": [
    "my_time_series"
   ]
  },
  {
   "cell_type": "markdown",
   "metadata": {},
   "source": [
    "## My Data"
   ]
  },
  {
   "cell_type": "code",
   "execution_count": 14,
   "metadata": {
    "collapsed": false
   },
   "outputs": [
    {
     "data": {
      "image/png": "[encoded data removed]",
      "text/plain": [
       "<matplotlib.figure.Figure at 0x7fd5fc206940>"
      ]
     },
     "metadata": {},
     "output_type": "display_data"
    }
   ],
   "source": [
    "myFile = np.load('/home/shayok/Downloads/LFP.npz')\n",
    "lfp = myFile['dataT2C1']*0.195\n",
    "onlineRippleDetect = myFile['onlineRippleDetect']\n",
    "offlineRippleDetect = myFile['offlineRippleDetections']\n",
    "timeStampsSeconds = myFile['timeStampsSeconds']\n",
    "timeStamps = myFile['timeStamps']\n",
    "plt.plot(timeStampsSeconds,lfp)\n",
    "plt.show()"
   ]
  },
  {
   "cell_type": "code",
   "execution_count": 15,
   "metadata": {
    "collapsed": false,
    "scrolled": true
   },
   "outputs": [
    {
     "name": "stderr",
     "output_type": "stream",
     "text": [
      "/home/shayok/Documents/Code/nelpy/nelpy/objects.py:1411: UserWarning: support created with given tdata and sampling rate, fs!\n"
     ]
    },
    {
     "name": "stdout",
     "output_type": "stream",
     "text": [
      "Mean\n",
      "-0.1089335\n",
      "[-0.1089335   0.63333333]\n",
      "Standard Deviation\n",
      "135.264969471\n",
      "[ 135.26496947   56.26957931]\n",
      "min\n",
      "-1338.87\n",
      "[-1338.87     0.  ]\n",
      "max\n",
      "1087.905\n",
      "[ 1087.905  5000.   ]\n"
     ]
    }
   ],
   "source": [
    "my_lfp = AnalogSignalArray([lfp],tdata=timeStamps,fs=30000,step=10)\n",
    "print(\"Mean\")\n",
    "print(my_lfp.mean())\n",
    "print(np.mean(np.transpose([lfp,onlineRippleDetect]),axis=0))\n",
    "print(\"Standard Deviation\")\n",
    "print(my_lfp.std())\n",
    "print(np.std(np.transpose([lfp,onlineRippleDetect]),axis=0))\n",
    "print(\"min\")\n",
    "print(my_lfp.min())\n",
    "print(np.amin(np.transpose([lfp,onlineRippleDetect]),axis=0))\n",
    "print(\"max\")\n",
    "print(my_lfp.max())\n",
    "print(np.amax(np.transpose([lfp,onlineRippleDetect]),axis=0))"
   ]
  },
  {
   "cell_type": "code",
   "execution_count": 16,
   "metadata": {
    "collapsed": false
   },
   "outputs": [
    {
     "data": {
      "text/plain": [
       "<matplotlib.axes._subplots.AxesSubplot at 0x7fd5f08f31d0>"
      ]
     },
     "execution_count": 16,
     "metadata": {},
     "output_type": "execute_result"
    },
    {
     "data": {
      "image/png": "[encoded data removed]",
      "text/plain": [
       "<matplotlib.figure.Figure at 0x7fd5f09aa1d0>"
      ]
     },
     "metadata": {},
     "output_type": "display_data"
    }
   ],
   "source": [
    "npl.plot(my_lfp)"
   ]
  },
  {
   "cell_type": "code",
   "execution_count": 17,
   "metadata": {
    "collapsed": false
   },
   "outputs": [
    {
     "data": {
      "text/plain": [
       "1"
      ]
     },
     "execution_count": 17,
     "metadata": {},
     "output_type": "execute_result"
    }
   ],
   "source": [
    "my_lfp.n_signals"
   ]
  },
  {
   "cell_type": "code",
   "execution_count": 18,
   "metadata": {
    "collapsed": false,
    "scrolled": true
   },
   "outputs": [
    {
     "name": "stdout",
     "output_type": "stream",
     "text": [
      "<EpochArray at 0x7fd5f0924cc0: 4 epochs> of duration 1:54 minutes\n"
     ]
    },
    {
     "name": "stderr",
     "output_type": "stream",
     "text": [
      "/home/shayok/Documents/Code/nelpy/nelpy/objects.py:1485: UserWarning: ignoring signal outside of support\n"
     ]
    },
    {
     "data": {
      "text/plain": [
       "<AnalogSignalArray at 0x7fd5f0924be0: 2 signals (4 segments)> for a total of 1:54 minutes"
      ]
     },
     "execution_count": 18,
     "metadata": {},
     "output_type": "execute_result"
    },
    {
     "data": {
      "image/png": "[encoded data removed]",
      "text/plain": [
       "<matplotlib.figure.Figure at 0x7fd5f0924c18>"
      ]
     },
     "metadata": {},
     "output_type": "display_data"
    }
   ],
   "source": [
    "partialSupport = EpochArray([[1200,1250], [1270,1290], [1345,1370],[1380,1399]],fs=1)\n",
    "my_lfp = AnalogSignalArray([lfp,onlineRippleDetect],tdata=timeStamps,support=partialSupport,fs=30000,step=10)\n",
    "npl.plot(my_lfp)\n",
    "print(my_lfp.support)\n",
    "my_lfp"
   ]
  },
  {
   "cell_type": "code",
   "execution_count": 12,
   "metadata": {
    "collapsed": false
   },
   "outputs": [
    {
     "data": {
      "text/plain": [
       "array([ 50.,  20.,  25.,  19.])"
      ]
     },
     "execution_count": 12,
     "metadata": {},
     "output_type": "execute_result"
    }
   ],
   "source": [
    "my_lfp.support.durations"
   ]
  },
  {
   "cell_type": "code",
   "execution_count": 13,
   "metadata": {
    "collapsed": false
   },
   "outputs": [
    {
     "data": {
      "text/plain": [
       "4"
      ]
     },
     "execution_count": 13,
     "metadata": {},
     "output_type": "execute_result"
    }
   ],
   "source": [
    "my_lfp.n_epochs"
   ]
  },
  {
   "cell_type": "code",
   "execution_count": 14,
   "metadata": {
    "collapsed": false,
    "scrolled": false
   },
   "outputs": [
    {
     "name": "stdout",
     "output_type": "stream",
     "text": [
      "[array([-0.21025995,  0.12837231]), array([ 0.16328703,  0.09999833]), array([ 0.06707391,  0.1199984 ]), array([ 0.1435688 ,  0.22806617])]\n",
      "<EpochArray at 0x7f670d529f28: 4 epochs> of duration 1:54 minutes\n",
      "<AnalogSignalArray at 0x7f670b5fc198: 2 signals (4 segments)> for a total of 1:54 minutes\n"
     ]
    },
    {
     "name": "stderr",
     "output_type": "stream",
     "text": [
      "/home/shayok/Documents/Code/nelpy/nelpy/objects.py:1485: UserWarning: ignoring signal outside of support\n",
      "/home/shayok/Documents/Code/nelpy/nelpy/objects.py:1485: UserWarning: ignoring signal outside of support\n",
      "/home/shayok/Documents/Code/nelpy/nelpy/objects.py:1485: UserWarning: ignoring signal outside of support\n",
      "/home/shayok/Documents/Code/nelpy/nelpy/objects.py:1485: UserWarning: ignoring signal outside of support\n"
     ]
    },
    {
     "data": {
      "text/plain": [
       "<matplotlib.axes._subplots.AxesSubplot at 0x7f670b5f3320>"
      ]
     },
     "execution_count": 14,
     "metadata": {},
     "output_type": "execute_result"
    },
    {
     "data": {
      "image/png": "[encoded data removed]",
      "text/plain": [
       "<matplotlib.figure.Figure at 0x7f670b64f4e0>"
      ]
     },
     "metadata": {},
     "output_type": "display_data"
    }
   ],
   "source": [
    "clipped_lfp = my_lfp.clip(-1000,1000)\n",
    "npl.plot(clipped_lfp)\n",
    "means = [snippet.mean() for snippet in clipped_lfp]\n",
    "print(means)\n",
    "print(clipped_lfp.support)\n",
    "print(clipped_lfp)\n",
    "npl.plot(clipped_lfp.support, means)"
   ]
  },
  {
   "cell_type": "code",
   "execution_count": 15,
   "metadata": {
    "collapsed": false
   },
   "outputs": [
    {
     "name": "stderr",
     "output_type": "stream",
     "text": [
      "/home/shayok/Documents/Code/nelpy/nelpy/objects.py:824: UserWarning: meta data is not available\n",
      "/home/shayok/Documents/Code/nelpy/nelpy/objects.py:824: UserWarning: meta data is not available\n",
      "/home/shayok/Documents/Code/nelpy/nelpy/objects.py:1485: UserWarning: ignoring signal outside of support\n"
     ]
    },
    {
     "data": {
      "text/plain": [
       "<matplotlib.axes._subplots.AxesSubplot at 0x7f670b55a3c8>"
      ]
     },
     "execution_count": 15,
     "metadata": {},
     "output_type": "execute_result"
    },
    {
     "data": {
      "image/png": "[encoded data removed]",
      "text/plain": [
       "<matplotlib.figure.Figure at 0x7f670b570358>"
      ]
     },
     "metadata": {},
     "output_type": "display_data"
    }
   ],
   "source": [
    "partialSupportForEtienne = EpochArray([[1200,1200.5], [1201.2,1201.3], [1201.5,1201.8],\n",
    "                                       [1202,1202.2], [1202.5,1203]],fs=1)\n",
    "mySuperRestrictedLFP = clipped_lfp[partialSupportForEtienne]\n",
    "npl.plot(mySuperRestrictedLFP)"
   ]
  },
  {
   "cell_type": "code",
   "execution_count": 16,
   "metadata": {
    "collapsed": false
   },
   "outputs": [
    {
     "name": "stdout",
     "output_type": "stream",
     "text": [
      "2 5\n",
      "(3304, 2)\n",
      "[ 17.10528904   0.        ] [ 17.10528904   0.        ]\n",
      "(3304,)\n"
     ]
    }
   ],
   "source": [
    "print(mySuperRestrictedLFP.n_signals, mySuperRestrictedLFP.n_epochs)\n",
    "print(mySuperRestrictedLFP.ydata.shape)\n",
    "print(mySuperRestrictedLFP.mean(), np.mean(mySuperRestrictedLFP.ydata,axis=0))\n",
    "print(np.mean(mySuperRestrictedLFP.ydata,axis=1).shape)"
   ]
  },
  {
   "cell_type": "code",
   "execution_count": 17,
   "metadata": {
    "collapsed": false,
    "scrolled": true
   },
   "outputs": [
    {
     "name": "stderr",
     "output_type": "stream",
     "text": [
      "/home/shayok/Documents/Code/nelpy/nelpy/objects.py:1485: UserWarning: ignoring signal outside of support\n"
     ]
    },
    {
     "data": {
      "text/plain": [
       "<matplotlib.axes._subplots.AxesSubplot at 0x7f670b459a20>"
      ]
     },
     "execution_count": 17,
     "metadata": {},
     "output_type": "execute_result"
    },
    {
     "data": {
      "image/png": "[encoded data removed]",
      "text/plain": [
       "<matplotlib.figure.Figure at 0x7f670b4650b8>"
      ]
     },
     "metadata": {},
     "output_type": "display_data"
    }
   ],
   "source": [
    "mynewlfp = clipped_lfp[2]\n",
    "npl.plot(mynewlfp)"
   ]
  },
  {
   "cell_type": "markdown",
   "metadata": {},
   "source": [
    "# Random"
   ]
  },
  {
   "cell_type": "code",
   "execution_count": 18,
   "metadata": {
    "collapsed": false
   },
   "outputs": [
    {
     "data": {
      "text/plain": [
       "(4, 3)"
      ]
     },
     "execution_count": 18,
     "metadata": {},
     "output_type": "execute_result"
    }
   ],
   "source": [
    "cow = np.array([[1,3,3],[3,1,3],[3,1,3],[3,1,2]])\n",
    "cow.shape"
   ]
  },
  {
   "cell_type": "code",
   "execution_count": 19,
   "metadata": {
    "collapsed": false
   },
   "outputs": [
    {
     "data": {
      "text/plain": [
       "array([[1, 3],\n",
       "       [3, 1],\n",
       "       [3, 1],\n",
       "       [3, 1]])"
      ]
     },
     "execution_count": 19,
     "metadata": {},
     "output_type": "execute_result"
    }
   ],
   "source": [
    "cow[:,[0,1]]"
   ]
  },
  {
   "cell_type": "code",
   "execution_count": 20,
   "metadata": {
    "collapsed": false
   },
   "outputs": [
    {
     "name": "stdout",
     "output_type": "stream",
     "text": [
      "4 cows 56 moos\n"
     ]
    }
   ],
   "source": [
    "cmoo = \"%s cows %s moos\" %(4,56)\n",
    "print(cmoo)"
   ]
  },
  {
   "cell_type": "code",
   "execution_count": 21,
   "metadata": {
    "collapsed": false
   },
   "outputs": [
    {
     "data": {
      "text/plain": [
       "(4, 3)"
      ]
     },
     "execution_count": 21,
     "metadata": {},
     "output_type": "execute_result"
    }
   ],
   "source": [
    "moo = np.squeeze(cow)\n",
    "moo.shape"
   ]
  },
  {
   "cell_type": "code",
   "execution_count": 22,
   "metadata": {
    "collapsed": false
   },
   "outputs": [
    {
     "name": "stdout",
     "output_type": "stream",
     "text": [
      "heyy\n"
     ]
    }
   ],
   "source": [
    "try:\n",
    "    if(timeStamps.shape[1]==cow.shape[1]):\n",
    "        print(\"moo\")\n",
    "except:\n",
    "    print(\"heyy\")"
   ]
  },
  {
   "cell_type": "markdown",
   "metadata": {},
   "source": [
    "# Interpolation"
   ]
  },
  {
   "cell_type": "code",
   "execution_count": 23,
   "metadata": {
    "collapsed": false
   },
   "outputs": [
    {
     "name": "stdout",
     "output_type": "stream",
     "text": [
      "36019940\n",
      "36019950\n"
     ]
    }
   ],
   "source": [
    "print(timeStamps[0])\n",
    "print(timeStamps[1])"
   ]
  },
  {
   "cell_type": "code",
   "execution_count": 24,
   "metadata": {
    "collapsed": false
   },
   "outputs": [],
   "source": [
    "cow1 = []\n",
    "cow1.append(\"moo\")"
   ]
  },
  {
   "cell_type": "code",
   "execution_count": 25,
   "metadata": {
    "collapsed": true
   },
   "outputs": [],
   "source": [
    "interpObj = interpolate.interp1d(timeStampsSeconds, lfp)"
   ]
  },
  {
   "cell_type": "code",
   "execution_count": 26,
   "metadata": {
    "collapsed": false
   },
   "outputs": [
    {
     "data": {
      "image/png": "[encoded data removed]",
      "text/plain": [
       "<matplotlib.figure.Figure at 0x7f670b4da518>"
      ]
     },
     "metadata": {},
     "output_type": "display_data"
    }
   ],
   "source": [
    "xnew = np.arange(timeStampsSeconds[5000],timeStampsSeconds[5010],1/30000)\n",
    "ynew = interpObj(xnew)\n",
    "plt.plot(timeStampsSeconds[5000:5010], lfp[5000:5010],'o',xnew,ynew,'-')\n",
    "plt.show()"
   ]
  },
  {
   "cell_type": "code",
   "execution_count": 27,
   "metadata": {
    "collapsed": false
   },
   "outputs": [
    {
     "name": "stdout",
     "output_type": "stream",
     "text": [
      "[-208.26    0.  ] -208.26\n"
     ]
    }
   ],
   "source": [
    "print(my_lfp.ydata[5000],lfp[5000])"
   ]
  },
  {
   "cell_type": "code",
   "execution_count": 28,
   "metadata": {
    "collapsed": false
   },
   "outputs": [
    {
     "name": "stderr",
     "output_type": "stream",
     "text": [
      "/home/shayok/Documents/Code/nelpy/nelpy/objects.py:1426: UserWarning: support created with just tdata! no sampling rate specified so support is entire range of signal\n",
      "/home/shayok/Documents/Code/nelpy/nelpy/utils.py:119: UserWarning: some steps in the data are smaller than the requested step size.\n"
     ]
    },
    {
     "data": {
      "text/plain": [
       "<AnalogSignalArray at 0x7f670b438128: 1 signals> for a total of 3:19.1000 minutes"
      ]
     },
     "execution_count": 28,
     "metadata": {},
     "output_type": "execute_result"
    }
   ],
   "source": [
    "my_lfp = AnalogSignalArray([lfp],tdata=timeStampsSeconds,)\n",
    "my_lfp"
   ]
  },
  {
   "cell_type": "code",
   "execution_count": 29,
   "metadata": {
    "collapsed": false
   },
   "outputs": [
    {
     "name": "stdout",
     "output_type": "stream",
     "text": [
      "1201.66683333 1201.67013333\n"
     ]
    }
   ],
   "source": [
    "print(np.min(xnew),np.max(xnew))"
   ]
  },
  {
   "cell_type": "code",
   "execution_count": 30,
   "metadata": {
    "collapsed": false
   },
   "outputs": [
    {
     "name": "stdout",
     "output_type": "stream",
     "text": [
      "1200.6645\n",
      "1201.00016667\n",
      "1201.3335\n"
     ]
    }
   ],
   "source": [
    "print(timeStampsSeconds[1993])\n",
    "print(my_lfp.time[3000])\n",
    "print(my_lfp.time[4000])"
   ]
  },
  {
   "cell_type": "code",
   "execution_count": 31,
   "metadata": {
    "collapsed": false
   },
   "outputs": [
    {
     "name": "stdout",
     "output_type": "stream",
     "text": [
      "0.0400000055556 1200.66466667 1200.00016667\n"
     ]
    }
   ],
   "source": [
    "print(my_lfp.tdata[0]/30000,timeStamps[0]/30000,timeStampsSeconds[0])"
   ]
  },
  {
   "cell_type": "code",
   "execution_count": 32,
   "metadata": {
    "collapsed": false
   },
   "outputs": [
    {
     "name": "stdout",
     "output_type": "stream",
     "text": [
      "(100,)\n",
      "(1, 100)\n"
     ]
    },
    {
     "data": {
      "image/png": "[encoded data removed]",
      "text/plain": [
       "<matplotlib.figure.Figure at 0x7f670b60c320>"
      ]
     },
     "metadata": {},
     "output_type": "display_data"
    }
   ],
   "source": [
    "ytestnew = my_lfp.interp(xnew)\n",
    "print(xnew.shape)\n",
    "print((ytestnew).shape)\n",
    "plt.plot(my_lfp.time[5000:5010], my_lfp.ydata[5000:5010],'o',xnew,np.squeeze(ytestnew),'-')\n",
    "plt.show()"
   ]
  }
 ],
 "metadata": {
  "anaconda-cloud": {},
  "kernelspec": {
   "display_name": "Python [Root]",
   "language": "python",
   "name": "Python [Root]"
  },
  "language_info": {
   "codemirror_mode": {
    "name": "ipython",
    "version": 3
   },
   "file_extension": ".py",
   "mimetype": "text/x-python",
   "name": "python",
   "nbconvert_exporter": "python",
   "pygments_lexer": "ipython3",
   "version": "3.5.2"
  }
 },
 "nbformat": 4,
 "nbformat_minor": 0
}
