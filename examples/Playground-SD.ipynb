{
 "cells": [
  {
   "cell_type": "code",
   "execution_count": 1,
   "metadata": {
    "collapsed": false
   },
   "outputs": [],
   "source": [
    "import numpy as np\n",
    "import matplotlib as mpl\n",
    "import matplotlib.pyplot as plt\n",
    "\n",
    "import nelpydev as nel  # recommended import for nelpy\n",
    "import nelpydev.plotting as npl  # recommended import for the nelpy plotting library\n",
    "\n",
    "%matplotlib inline\n",
    "\n",
    "from nelpydev import EpochArray, AnalogSignal, SpikeTrainArray, BinnedSpikeTrainArray"
   ]
  },
  {
   "cell_type": "code",
   "execution_count": 2,
   "metadata": {
    "collapsed": false
   },
   "outputs": [
    {
     "data": {
      "text/plain": [
       "<module 'nelpydev' from '/home/shayok/anaconda3/lib/python3.5/site-packages/nelpydev/__init__.py'>"
      ]
     },
     "execution_count": 2,
     "metadata": {},
     "output_type": "execute_result"
    }
   ],
   "source": [
    "nel"
   ]
  },
  {
   "cell_type": "code",
   "execution_count": 3,
   "metadata": {
    "collapsed": false
   },
   "outputs": [
    {
     "data": {
      "image/png": "[encoded data removed]",
      "text/plain": [
       "<matplotlib.figure.Figure at 0x7fbb8767ee10>"
      ]
     },
     "metadata": {},
     "output_type": "display_data"
    }
   ],
   "source": [
    "myFile = np.load('/home/shayok/Downloads/LFP.npz')\n",
    "lfp = myFile['dataT2C1']*0.195\n",
    "onlineRippleDetect = myFile['onlineRippleDetect']\n",
    "offlineRippleDetect = myFile['offlineRippleDetections']\n",
    "timeStampsSeconds = myFile['timeStampsSeconds']\n",
    "timeStamps = myFile['timeStamps']\n",
    "plt.plot(timeStampsSeconds,lfp)\n",
    "plt.show()"
   ]
  },
  {
   "cell_type": "code",
   "execution_count": 4,
   "metadata": {
    "collapsed": false,
    "scrolled": false
   },
   "outputs": [
    {
     "name": "stdout",
     "output_type": "stream",
     "text": [
      "Mean\n",
      "-0.1089335\n",
      "-0.1089335\n",
      "Standard Deviation\n",
      "135.264969471\n",
      "135.264969471\n",
      "min\n",
      "-1338.87\n",
      "-1338.87\n",
      "max\n",
      "1087.905\n",
      "1087.905\n"
     ]
    },
    {
     "name": "stderr",
     "output_type": "stream",
     "text": [
      "/home/shayok/anaconda3/lib/python3.5/site-packages/nelpydev/objects.py:1178: UserWarning: support created with given ydata! support is entire signal\n"
     ]
    }
   ],
   "source": [
    "#Check if just ydata works\n",
    "my_lfp = AnalogSignal(lfp)\n",
    "print(\"Mean\")\n",
    "print(my_lfp.mean())\n",
    "print(np.mean(lfp))\n",
    "print(\"Standard Deviation\")\n",
    "print(my_lfp.std())\n",
    "print(np.std(lfp))\n",
    "print(\"min\")\n",
    "print(my_lfp.min())\n",
    "print(np.min(lfp))\n",
    "print(\"max\")\n",
    "print(my_lfp.max())\n",
    "print(np.max(lfp))"
   ]
  },
  {
   "cell_type": "code",
   "execution_count": 5,
   "metadata": {
    "collapsed": false
   },
   "outputs": [
    {
     "name": "stderr",
     "output_type": "stream",
     "text": [
      "/home/shayok/anaconda3/lib/python3.5/site-packages/nelpydev/objects.py:59: UserWarning: No sampling frequency has been specified!\n",
      "/home/shayok/anaconda3/lib/python3.5/site-packages/nelpydev/objects.py:1150: UserWarning: support created with specified epoch array but no specified sampling rate\n"
     ]
    }
   ],
   "source": [
    "#should be warning since we don't have xdata and fs\n",
    "#and now we're trying to get an epoch where we only have one\n",
    "my_lfp2 = my_lfp[0]"
   ]
  },
  {
   "cell_type": "code",
   "execution_count": 6,
   "metadata": {
    "collapsed": false
   },
   "outputs": [
    {
     "name": "stdout",
     "output_type": "stream",
     "text": [
      "36019940\n",
      "36019950\n"
     ]
    }
   ],
   "source": [
    "print(timeStamps[0])\n",
    "print(timeStamps[1])"
   ]
  },
  {
   "cell_type": "code",
   "execution_count": 7,
   "metadata": {
    "collapsed": false,
    "scrolled": true
   },
   "outputs": [
    {
     "name": "stdout",
     "output_type": "stream",
     "text": [
      "Mean\n",
      "-0.1089335\n",
      "-0.1089335\n",
      "Standard Deviation\n",
      "135.264969471\n",
      "135.264969471\n",
      "min\n",
      "-1338.87\n",
      "-1338.87\n",
      "max\n",
      "1087.905\n",
      "1087.905\n"
     ]
    },
    {
     "name": "stderr",
     "output_type": "stream",
     "text": [
      "/home/shayok/anaconda3/lib/python3.5/site-packages/nelpydev/objects.py:1153: UserWarning: support created with just tdata! no sampling rate specified so support is entire range of signal\n",
      "/home/shayok/anaconda3/lib/python3.5/site-packages/nelpydev/objects.py:59: UserWarning: No sampling frequency has been specified!\n",
      "/home/shayok/anaconda3/lib/python3.5/site-packages/nelpydev/objects.py:1150: UserWarning: support created with specified epoch array but no specified sampling rate\n"
     ]
    }
   ],
   "source": [
    "#alright, check if ydata and xdata works\n",
    "my_lfp = AnalogSignal(lfp,tdata=timeStamps)\n",
    "print(\"Mean\")\n",
    "print(my_lfp.mean())\n",
    "print(np.mean(lfp))\n",
    "print(\"Standard Deviation\")\n",
    "print(my_lfp.std())\n",
    "print(np.std(lfp))\n",
    "print(\"min\")\n",
    "print(my_lfp.min())\n",
    "print(np.min(lfp))\n",
    "print(\"max\")\n",
    "print(my_lfp.max())\n",
    "print(np.max(lfp))\n",
    "\n",
    "#should be warning since we don't have xdata and fs\n",
    "#and now we're trying to get an epoch where we only have one\n",
    "my_lfp2 = my_lfp[0]"
   ]
  },
  {
   "cell_type": "code",
   "execution_count": 8,
   "metadata": {
    "collapsed": false
   },
   "outputs": [
    {
     "name": "stdout",
     "output_type": "stream",
     "text": [
      "36019940\n",
      "1200.66466667\n",
      "1200.00016667\n",
      "1399.99983333\n"
     ]
    }
   ],
   "source": [
    "print(timeStamps[0])\n",
    "print(timeStamps[0]/30000)\n",
    "print(timeStampsSeconds[0])\n",
    "print(timeStampsSeconds[timeStamps.size-1])"
   ]
  },
  {
   "cell_type": "code",
   "execution_count": 9,
   "metadata": {
    "collapsed": false
   },
   "outputs": [
    {
     "name": "stderr",
     "output_type": "stream",
     "text": [
      "/home/shayok/anaconda3/lib/python3.5/site-packages/nelpydev/objects.py:1211: UserWarning: ignoring signal outside of support\n"
     ]
    },
    {
     "data": {
      "text/plain": [
       "<EpochArray at 0x7fbbc430a780: 1 epoch> totaling 200 seconds"
      ]
     },
     "execution_count": 9,
     "metadata": {},
     "output_type": "execute_result"
    },
    {
     "data": {
      "image/png": "[encoded data removed]",
      "text/plain": [
       "<matplotlib.figure.Figure at 0x7fbbc430a6d8>"
      ]
     },
     "metadata": {},
     "output_type": "display_data"
    }
   ],
   "source": [
    "#Aight, let's do this forreals\n",
    "fullSupport = EpochArray([1200,1400],fs=None)\n",
    "my_lfp = AnalogSignal(lfp,tdata=timeStamps,fs=30000, support=fullSupport,step=10)\n",
    "plt.plot(my_lfp.time, my_lfp.ydata)\n",
    "my_lfp.support"
   ]
  },
  {
   "cell_type": "code",
   "execution_count": 10,
   "metadata": {
    "collapsed": false
   },
   "outputs": [
    {
     "name": "stdout",
     "output_type": "stream",
     "text": [
      "base <AnalogSignal  at 0x7fbba80f88d0: 1 epoch> totalling 200 seconds\n"
     ]
    }
   ],
   "source": [
    "print(my_lfp[0])"
   ]
  },
  {
   "cell_type": "code",
   "execution_count": 11,
   "metadata": {
    "collapsed": false
   },
   "outputs": [
    {
     "name": "stderr",
     "output_type": "stream",
     "text": [
      "/home/shayok/anaconda3/lib/python3.5/site-packages/nelpydev/objects.py:1211: UserWarning: ignoring signal outside of support\n"
     ]
    },
    {
     "data": {
      "text/plain": [
       "<EpochArray at 0x7fbba8119b38: 4 epochs> totaling 114.0 seconds"
      ]
     },
     "execution_count": 11,
     "metadata": {},
     "output_type": "execute_result"
    }
   ],
   "source": [
    "partialSupport = EpochArray([[1200,1250], [1270,1290], [1345,1370],[1380,1399]],fs=1)\n",
    "my_lfp23 = AnalogSignal(lfp,tdata=timeStamps,fs=30000, support=partialSupport,step=10)\n",
    "my_lfp23.support"
   ]
  },
  {
   "cell_type": "code",
   "execution_count": 12,
   "metadata": {
    "collapsed": false
   },
   "outputs": [
    {
     "name": "stderr",
     "output_type": "stream",
     "text": [
      "/home/shayok/anaconda3/lib/python3.5/site-packages/nelpydev/objects.py:1320: UserWarning: Index resulted in empty epoch array\n"
     ]
    }
   ],
   "source": [
    "asdf = my_lfp23[5]"
   ]
  },
  {
   "cell_type": "code",
   "execution_count": 13,
   "metadata": {
    "collapsed": false
   },
   "outputs": [
    {
     "name": "stdout",
     "output_type": "stream",
     "text": [
      "<empty AnalogSignal>\n"
     ]
    }
   ],
   "source": [
    "print(asdf)"
   ]
  },
  {
   "cell_type": "code",
   "execution_count": 14,
   "metadata": {
    "collapsed": false
   },
   "outputs": [
    {
     "ename": "TypeError",
     "evalue": "unorderable types: EpochArray() >= int()",
     "output_type": "error",
     "traceback": [
      "\u001b[1;31m---------------------------------------------------------------------------\u001b[0m",
      "\u001b[1;31mTypeError\u001b[0m                                 Traceback (most recent call last)",
      "\u001b[1;32m<ipython-input-14-ea91e698ab62>\u001b[0m in \u001b[0;36m<module>\u001b[1;34m()\u001b[0m\n\u001b[0;32m      1\u001b[0m \u001b[0mpartialSupport\u001b[0m \u001b[1;33m=\u001b[0m \u001b[0mEpochArray\u001b[0m\u001b[1;33m(\u001b[0m\u001b[1;33m[\u001b[0m\u001b[1;33m[\u001b[0m\u001b[1;36m1200\u001b[0m\u001b[1;33m,\u001b[0m\u001b[1;36m1250\u001b[0m\u001b[1;33m]\u001b[0m\u001b[1;33m,\u001b[0m \u001b[1;33m[\u001b[0m\u001b[1;36m1270\u001b[0m\u001b[1;33m,\u001b[0m\u001b[1;36m1290\u001b[0m\u001b[1;33m]\u001b[0m\u001b[1;33m,\u001b[0m \u001b[1;33m[\u001b[0m\u001b[1;36m1345\u001b[0m\u001b[1;33m,\u001b[0m\u001b[1;36m1370\u001b[0m\u001b[1;33m]\u001b[0m\u001b[1;33m,\u001b[0m\u001b[1;33m[\u001b[0m\u001b[1;36m1380\u001b[0m\u001b[1;33m,\u001b[0m\u001b[1;36m1399\u001b[0m\u001b[1;33m]\u001b[0m\u001b[1;33m]\u001b[0m\u001b[1;33m,\u001b[0m\u001b[0mfs\u001b[0m\u001b[1;33m=\u001b[0m\u001b[1;36m1\u001b[0m\u001b[1;33m)\u001b[0m\u001b[1;33m\u001b[0m\u001b[0m\n\u001b[1;32m----> 2\u001b[1;33m \u001b[0mmy_lfp2\u001b[0m \u001b[1;33m=\u001b[0m \u001b[0mmy_lfp\u001b[0m\u001b[1;33m[\u001b[0m\u001b[0mpartialSupport\u001b[0m\u001b[1;33m]\u001b[0m\u001b[1;33m\u001b[0m\u001b[0m\n\u001b[0m\u001b[0;32m      3\u001b[0m \u001b[0mmy_lfp2\u001b[0m\u001b[1;33m.\u001b[0m\u001b[0msupport\u001b[0m\u001b[1;33m\u001b[0m\u001b[0m\n",
      "\u001b[1;32m/home/shayok/anaconda3/lib/python3.5/site-packages/nelpydev/objects.py\u001b[0m in \u001b[0;36m__getitem__\u001b[1;34m(self, idx)\u001b[0m\n\u001b[0;32m   1317\u001b[0m             \u001b[0mindex\u001b[0m \u001b[0mparticular\u001b[0m \u001b[0ma\u001b[0m \u001b[0msingular\u001b[0m \u001b[0mepoch\u001b[0m \u001b[1;32mor\u001b[0m \u001b[0mmultiple\u001b[0m \u001b[0mepochs\u001b[0m \u001b[1;32mwith\u001b[0m \u001b[0mslice\u001b[0m\u001b[1;33m\u001b[0m\u001b[0m\n\u001b[0;32m   1318\u001b[0m         \"\"\"\n\u001b[1;32m-> 1319\u001b[1;33m         \u001b[1;32mif\u001b[0m \u001b[0midx\u001b[0m \u001b[1;33m>=\u001b[0m \u001b[0mself\u001b[0m\u001b[1;33m.\u001b[0m\u001b[0msupport\u001b[0m\u001b[1;33m.\u001b[0m\u001b[0mn_epochs\u001b[0m\u001b[1;33m:\u001b[0m\u001b[1;33m\u001b[0m\u001b[0m\n\u001b[0m\u001b[0;32m   1320\u001b[0m             \u001b[0mwarnings\u001b[0m\u001b[1;33m.\u001b[0m\u001b[0mwarn\u001b[0m\u001b[1;33m(\u001b[0m\u001b[1;34m\"Index resulted in empty epoch array\"\u001b[0m\u001b[1;33m)\u001b[0m\u001b[1;33m\u001b[0m\u001b[0m\n\u001b[0;32m   1321\u001b[0m             return AnalogSignal(ydata = np.array([]),\n",
      "\u001b[1;31mTypeError\u001b[0m: unorderable types: EpochArray() >= int()"
     ]
    }
   ],
   "source": [
    "partialSupport = EpochArray([[1200,1250], [1270,1290], [1345,1370],[1380,1399]],fs=1)\n",
    "my_lfp2 = my_lfp[partialSupport]\n",
    "my_lfp2.support"
   ]
  },
  {
   "cell_type": "code",
   "execution_count": null,
   "metadata": {
    "collapsed": false
   },
   "outputs": [],
   "source": [
    "print(my_lfp2)\n",
    "print(np.mean(my_lfp2.ydata))\n",
    "print(my_lfp2.mean())\n",
    "for cows in my_lfp2:\n",
    "    print(cows.mean())\n",
    "    print(np.mean(cows.ydata))"
   ]
  },
  {
   "cell_type": "code",
   "execution_count": null,
   "metadata": {
    "collapsed": false
   },
   "outputs": [],
   "source": [
    "fakexdata = 3000*1200 + np.arange(0,len(lfp))\n",
    "my_lfp1234 = AnalogSignal(lfp, tdata=fakexdata, fs=3000)\n",
    "plt.plot(my_lfp1234.time, my_lfp1234.ydata)\n",
    "plt.show()\n",
    "plt.plot(my_lfp1234.clip(-500,500).time, my_lfp1234.clip(-500,500).ydata)\n",
    "plt.show()\n",
    "my_lfp1234.support"
   ]
  },
  {
   "cell_type": "code",
   "execution_count": null,
   "metadata": {
    "collapsed": false
   },
   "outputs": [],
   "source": [
    "my_lfpCOPY = my_lfp1234.copy()\n",
    "print(my_lfpCOPY)\n",
    "print(my_lfp1234)"
   ]
  }
 ],
 "metadata": {
  "anaconda-cloud": {},
  "kernelspec": {
   "display_name": "Python [Root]",
   "language": "python",
   "name": "Python [Root]"
  },
  "language_info": {
   "codemirror_mode": {
    "name": "ipython",
    "version": 3
   },
   "file_extension": ".py",
   "mimetype": "text/x-python",
   "name": "python",
   "nbconvert_exporter": "python",
   "pygments_lexer": "ipython3",
   "version": "3.5.2"
  }
 },
 "nbformat": 4,
 "nbformat_minor": 0
}
