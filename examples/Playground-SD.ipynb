{
 "cells": [
  {
   "cell_type": "code",
   "execution_count": 1,
   "metadata": {
    "collapsed": false
   },
   "outputs": [],
   "source": [
    "import numpy as np\n",
    "import matplotlib as mpl\n",
    "import matplotlib.pyplot as plt\n",
    "\n",
    "import nelpydev as nel  # recommended import for nelpy\n",
    "import nelpydev.plotting as npl  # recommended import for the nelpy plotting library\n",
    "\n",
    "%matplotlib inline\n",
    "\n",
    "from nelpydev import EpochArray, AnalogSignal, SpikeTrainArray, BinnedSpikeTrainArray"
   ]
  },
  {
   "cell_type": "code",
   "execution_count": 2,
   "metadata": {
    "collapsed": false
   },
   "outputs": [
    {
     "data": {
      "text/plain": [
       "<module 'nelpydev' from '/home/shayok/anaconda3/lib/python3.5/site-packages/nelpydev/__init__.py'>"
      ]
     },
     "execution_count": 2,
     "metadata": {},
     "output_type": "execute_result"
    }
   ],
   "source": [
    "nel"
   ]
  },
  {
   "cell_type": "code",
   "execution_count": 3,
   "metadata": {
    "collapsed": false
   },
   "outputs": [
    {
     "data": {
      "image/png": "[encoded data removed]",
      "text/plain": [
       "<matplotlib.figure.Figure at 0x7f93c9b01d68>"
      ]
     },
     "metadata": {},
     "output_type": "display_data"
    }
   ],
   "source": [
    "myFile = np.load('/home/shayok/Downloads/LFP.npz')\n",
    "lfp = myFile['dataT2C1']*0.195\n",
    "onlineRippleDetect = myFile['onlineRippleDetect']\n",
    "offlineRippleDetect = myFile['offlineRippleDetections']\n",
    "timeStampsSeconds = myFile['timeStampsSeconds']\n",
    "timeStamps = myFile['timeStamps']\n",
    "plt.plot(timeStampsSeconds,lfp)\n",
    "plt.show()"
   ]
  },
  {
   "cell_type": "code",
   "execution_count": 4,
   "metadata": {
    "collapsed": false,
    "scrolled": false
   },
   "outputs": [
    {
     "name": "stdout",
     "output_type": "stream",
     "text": [
      "Mean\n",
      "-0.1089335\n",
      "-0.1089335\n",
      "Standard Deviation\n",
      "135.264969471\n",
      "135.264969471\n",
      "min\n",
      "-1338.87\n",
      "-1338.87\n",
      "max\n",
      "1087.905\n",
      "1087.905\n"
     ]
    },
    {
     "name": "stderr",
     "output_type": "stream",
     "text": [
      "/home/shayok/anaconda3/lib/python3.5/site-packages/nelpydev/objects.py:1179: UserWarning: support created with given ydata! support is entire signal\n"
     ]
    }
   ],
   "source": [
    "#Check if just ydata works\n",
    "my_lfp = AnalogSignal(lfp)\n",
    "print(\"Mean\")\n",
    "print(my_lfp.mean())\n",
    "print(np.mean(lfp))\n",
    "print(\"Standard Deviation\")\n",
    "print(my_lfp.std())\n",
    "print(np.std(lfp))\n",
    "print(\"min\")\n",
    "print(my_lfp.min())\n",
    "print(np.min(lfp))\n",
    "print(\"max\")\n",
    "print(my_lfp.max())\n",
    "print(np.max(lfp))"
   ]
  },
  {
   "cell_type": "code",
   "execution_count": 5,
   "metadata": {
    "collapsed": false
   },
   "outputs": [
    {
     "name": "stderr",
     "output_type": "stream",
     "text": [
      "/home/shayok/anaconda3/lib/python3.5/site-packages/nelpydev/objects.py:59: UserWarning: No sampling frequency has been specified!\n",
      "/home/shayok/anaconda3/lib/python3.5/site-packages/nelpydev/objects.py:1151: UserWarning: support created with specified epoch array but no specified sampling rate\n"
     ]
    }
   ],
   "source": [
    "#should be warning since we don't have xdata and fs\n",
    "#and now we're trying to get an epoch where we only have one\n",
    "my_lfp2 = my_lfp[0]"
   ]
  },
  {
   "cell_type": "code",
   "execution_count": 6,
   "metadata": {
    "collapsed": false
   },
   "outputs": [
    {
     "name": "stdout",
     "output_type": "stream",
     "text": [
      "36019940\n",
      "36019950\n"
     ]
    }
   ],
   "source": [
    "print(timeStamps[0])\n",
    "print(timeStamps[1])"
   ]
  },
  {
   "cell_type": "code",
   "execution_count": 7,
   "metadata": {
    "collapsed": false,
    "scrolled": true
   },
   "outputs": [
    {
     "name": "stdout",
     "output_type": "stream",
     "text": [
      "Mean\n",
      "-0.1089335\n",
      "-0.1089335\n",
      "Standard Deviation\n",
      "135.264969471\n",
      "135.264969471\n",
      "min\n",
      "-1338.87\n",
      "-1338.87\n",
      "max\n",
      "1087.905\n",
      "1087.905\n"
     ]
    },
    {
     "name": "stderr",
     "output_type": "stream",
     "text": [
      "/home/shayok/anaconda3/lib/python3.5/site-packages/nelpydev/objects.py:1154: UserWarning: support created with just tdata! no sampling rate specified so support is entire range of signal\n",
      "/home/shayok/anaconda3/lib/python3.5/site-packages/nelpydev/objects.py:59: UserWarning: No sampling frequency has been specified!\n",
      "/home/shayok/anaconda3/lib/python3.5/site-packages/nelpydev/objects.py:1151: UserWarning: support created with specified epoch array but no specified sampling rate\n"
     ]
    }
   ],
   "source": [
    "#alright, check if ydata and xdata works\n",
    "my_lfp = AnalogSignal(lfp,tdata=timeStamps)\n",
    "print(\"Mean\")\n",
    "print(my_lfp.mean())\n",
    "print(np.mean(lfp))\n",
    "print(\"Standard Deviation\")\n",
    "print(my_lfp.std())\n",
    "print(np.std(lfp))\n",
    "print(\"min\")\n",
    "print(my_lfp.min())\n",
    "print(np.min(lfp))\n",
    "print(\"max\")\n",
    "print(my_lfp.max())\n",
    "print(np.max(lfp))\n",
    "\n",
    "#should be warning since we don't have xdata and fs\n",
    "#and now we're trying to get an epoch where we only have one\n",
    "my_lfp2 = my_lfp[0]"
   ]
  },
  {
   "cell_type": "code",
   "execution_count": 8,
   "metadata": {
    "collapsed": false
   },
   "outputs": [
    {
     "name": "stdout",
     "output_type": "stream",
     "text": [
      "36019940\n",
      "1200.66466667\n",
      "1200.00016667\n",
      "1399.99983333\n"
     ]
    }
   ],
   "source": [
    "print(timeStamps[0])\n",
    "print(timeStamps[0]/30000)\n",
    "print(timeStampsSeconds[0])\n",
    "print(timeStampsSeconds[timeStamps.size-1])"
   ]
  },
  {
   "cell_type": "code",
   "execution_count": 9,
   "metadata": {
    "collapsed": false
   },
   "outputs": [
    {
     "name": "stderr",
     "output_type": "stream",
     "text": [
      "/home/shayok/anaconda3/lib/python3.5/site-packages/nelpydev/objects.py:1212: UserWarning: ignoring signal outside of support\n"
     ]
    },
    {
     "data": {
      "text/plain": [
       "<EpochArray at 0x7f93d6837e80: 1 epoch> totaling 200 seconds"
      ]
     },
     "execution_count": 9,
     "metadata": {},
     "output_type": "execute_result"
    },
    {
     "data": {
      "image/png": "[encoded data removed]",
      "text/plain": [
       "<matplotlib.figure.Figure at 0x7f93d68372e8>"
      ]
     },
     "metadata": {},
     "output_type": "display_data"
    }
   ],
   "source": [
    "#Aight, let's do this forreals\n",
    "fullSupport = EpochArray([1200,1400],fs=None)\n",
    "my_lfp = AnalogSignal(lfp,tdata=timeStamps,fs=30000, support=fullSupport,step=10)\n",
    "plt.plot(my_lfp.time, my_lfp.ydata)\n",
    "my_lfp.support"
   ]
  },
  {
   "cell_type": "code",
   "execution_count": 10,
   "metadata": {
    "collapsed": false
   },
   "outputs": [
    {
     "name": "stdout",
     "output_type": "stream",
     "text": [
      "base <AnalogSignal  at 0x7f9404769978: 1 epoch> totalling 200 seconds\n"
     ]
    }
   ],
   "source": [
    "print(my_lfp[0])"
   ]
  },
  {
   "cell_type": "code",
   "execution_count": 11,
   "metadata": {
    "collapsed": false
   },
   "outputs": [
    {
     "name": "stderr",
     "output_type": "stream",
     "text": [
      "/home/shayok/anaconda3/lib/python3.5/site-packages/nelpydev/objects.py:1212: UserWarning: ignoring signal outside of support\n"
     ]
    },
    {
     "data": {
      "text/plain": [
       "<EpochArray at 0x7f93d68dff98: 4 epochs> totaling 114.0 seconds"
      ]
     },
     "execution_count": 11,
     "metadata": {},
     "output_type": "execute_result"
    }
   ],
   "source": [
    "partialSupport = EpochArray([[1200,1250], [1270,1290], [1345,1370],[1380,1399]],fs=1)\n",
    "my_lfp23 = AnalogSignal(lfp,tdata=timeStamps,fs=30000, support=partialSupport,step=10)\n",
    "my_lfp23.support"
   ]
  },
  {
   "cell_type": "code",
   "execution_count": 12,
   "metadata": {
    "collapsed": false
   },
   "outputs": [
    {
     "name": "stderr",
     "output_type": "stream",
     "text": [
      "/home/shayok/anaconda3/lib/python3.5/site-packages/nelpydev/objects.py:1200: UserWarning: Support specified is empty\n"
     ]
    }
   ],
   "source": [
    "asdf = my_lfp23[5]"
   ]
  },
  {
   "cell_type": "code",
   "execution_count": 13,
   "metadata": {
    "collapsed": false
   },
   "outputs": [
    {
     "name": "stdout",
     "output_type": "stream",
     "text": [
      "<empty AnalogSignal>\n"
     ]
    }
   ],
   "source": [
    "print(asdf)"
   ]
  },
  {
   "cell_type": "code",
   "execution_count": 14,
   "metadata": {
    "collapsed": false
   },
   "outputs": [
    {
     "name": "stderr",
     "output_type": "stream",
     "text": [
      "/home/shayok/anaconda3/lib/python3.5/site-packages/nelpydev/objects.py:59: UserWarning: No sampling frequency has been specified!\n",
      "/home/shayok/anaconda3/lib/python3.5/site-packages/nelpydev/objects.py:59: UserWarning: No sampling frequency has been specified!\n",
      "/home/shayok/anaconda3/lib/python3.5/site-packages/nelpydev/objects.py:589: UserWarning: meta data is not available\n",
      "/home/shayok/anaconda3/lib/python3.5/site-packages/nelpydev/objects.py:59: UserWarning: No sampling frequency has been specified!\n",
      "/home/shayok/anaconda3/lib/python3.5/site-packages/nelpydev/objects.py:589: UserWarning: meta data is not available\n",
      "/home/shayok/anaconda3/lib/python3.5/site-packages/nelpydev/objects.py:59: UserWarning: No sampling frequency has been specified!\n",
      "/home/shayok/anaconda3/lib/python3.5/site-packages/nelpydev/objects.py:790: UserWarning: sampling rates are different; intersecting along time only and throwing away fs\n",
      "/home/shayok/anaconda3/lib/python3.5/site-packages/nelpydev/objects.py:1212: UserWarning: ignoring signal outside of support\n"
     ]
    },
    {
     "data": {
      "text/plain": [
       "<EpochArray at 0x7f93d6860198: 4 epochs> totaling 114.0 seconds"
      ]
     },
     "execution_count": 14,
     "metadata": {},
     "output_type": "execute_result"
    }
   ],
   "source": [
    "partialSupport = EpochArray([[1200,1250], [1270,1290], [1345,1370],[1380,1399]],fs=1)\n",
    "my_lfp2 = my_lfp[partialSupport]\n",
    "my_lfp2.support"
   ]
  },
  {
   "cell_type": "code",
   "execution_count": 15,
   "metadata": {
    "collapsed": false
   },
   "outputs": [
    {
     "name": "stdout",
     "output_type": "stream",
     "text": [
      "base <AnalogSignal  at 0x7f93d6860128: 4 epochs in analog signal> totalling 114.0 seconds\n",
      "-0.076242757566\n",
      "-0.076242757566\n",
      "-0.330625308262\n",
      "-0.330625308262\n",
      "0.16328702855\n",
      "0.16328702855\n",
      "0.0670739056813\n",
      "0.0670739056813\n",
      "0.143568797039\n",
      "0.143568797039\n"
     ]
    },
    {
     "name": "stderr",
     "output_type": "stream",
     "text": [
      "/home/shayok/anaconda3/lib/python3.5/site-packages/nelpydev/objects.py:1212: UserWarning: ignoring signal outside of support\n",
      "/home/shayok/anaconda3/lib/python3.5/site-packages/nelpydev/objects.py:1212: UserWarning: ignoring signal outside of support\n",
      "/home/shayok/anaconda3/lib/python3.5/site-packages/nelpydev/objects.py:1212: UserWarning: ignoring signal outside of support\n",
      "/home/shayok/anaconda3/lib/python3.5/site-packages/nelpydev/objects.py:1212: UserWarning: ignoring signal outside of support\n"
     ]
    }
   ],
   "source": [
    "print(my_lfp2)\n",
    "print(np.mean(my_lfp2.ydata))\n",
    "print(my_lfp2.mean())\n",
    "for cows in my_lfp2:\n",
    "    print(cows.mean())\n",
    "    print(np.mean(cows.ydata))"
   ]
  },
  {
   "cell_type": "code",
   "execution_count": 16,
   "metadata": {
    "collapsed": false
   },
   "outputs": [
    {
     "name": "stdout",
     "output_type": "stream",
     "text": [
      "[148007 208008 283009]\n"
     ]
    },
    {
     "name": "stderr",
     "output_type": "stream",
     "text": [
      "/home/shayok/anaconda3/lib/python3.5/site-packages/nelpydev/objects.py:1212: UserWarning: ignoring signal outside of support\n",
      "/home/shayok/anaconda3/lib/python3.5/site-packages/nelpydev/objects.py:1212: UserWarning: ignoring signal outside of support\n",
      "/home/shayok/anaconda3/lib/python3.5/site-packages/nelpydev/objects.py:1212: UserWarning: ignoring signal outside of support\n",
      "/home/shayok/anaconda3/lib/python3.5/site-packages/nelpydev/objects.py:1212: UserWarning: ignoring signal outside of support\n"
     ]
    },
    {
     "data": {
      "text/plain": [
       "<matplotlib.axes._subplots.AxesSubplot at 0x7f93d68a7748>"
      ]
     },
     "execution_count": 16,
     "metadata": {},
     "output_type": "execute_result"
    },
    {
     "data": {
      "image/png": "[encoded data removed]",
      "text/plain": [
       "<matplotlib.figure.Figure at 0x7f93d68b77b8>"
      ]
     },
     "metadata": {},
     "output_type": "display_data"
    }
   ],
   "source": [
    "npl.plot(my_lfp23)\n",
    "means = [snippet.mean() for snippet in my_lfp23]\n",
    "npl.plot(my_lfp23.support, means)"
   ]
  },
  {
   "cell_type": "code",
   "execution_count": 21,
   "metadata": {
    "collapsed": false
   },
   "outputs": [
    {
     "name": "stdout",
     "output_type": "stream",
     "text": [
      "36036000.0\n",
      "1201.2\n",
      "36019940.0\n",
      "1200.66466667\n",
      "[ 301 1202 1803]\n"
     ]
    },
    {
     "name": "stderr",
     "output_type": "stream",
     "text": [
      "/home/shayok/anaconda3/lib/python3.5/site-packages/nelpydev/objects.py:59: UserWarning: No sampling frequency has been specified!\n",
      "/home/shayok/anaconda3/lib/python3.5/site-packages/nelpydev/objects.py:59: UserWarning: No sampling frequency has been specified!\n",
      "/home/shayok/anaconda3/lib/python3.5/site-packages/nelpydev/objects.py:589: UserWarning: meta data is not available\n",
      "/home/shayok/anaconda3/lib/python3.5/site-packages/nelpydev/objects.py:59: UserWarning: No sampling frequency has been specified!\n",
      "/home/shayok/anaconda3/lib/python3.5/site-packages/nelpydev/objects.py:589: UserWarning: meta data is not available\n",
      "/home/shayok/anaconda3/lib/python3.5/site-packages/nelpydev/objects.py:59: UserWarning: No sampling frequency has been specified!\n",
      "/home/shayok/anaconda3/lib/python3.5/site-packages/nelpydev/objects.py:790: UserWarning: sampling rates are different; intersecting along time only and throwing away fs\n",
      "/home/shayok/anaconda3/lib/python3.5/site-packages/nelpydev/objects.py:1212: UserWarning: ignoring signal outside of support\n",
      "/home/shayok/anaconda3/lib/python3.5/site-packages/nelpydev/objects.py:1212: UserWarning: ignoring signal outside of support\n",
      "/home/shayok/anaconda3/lib/python3.5/site-packages/numpy/core/fromnumeric.py:2889: RuntimeWarning: Mean of empty slice.\n",
      "/home/shayok/anaconda3/lib/python3.5/site-packages/numpy/core/_methods.py:80: RuntimeWarning: invalid value encountered in double_scalars\n",
      "/home/shayok/anaconda3/lib/python3.5/site-packages/nelpydev/objects.py:1212: UserWarning: ignoring signal outside of support\n",
      "/home/shayok/anaconda3/lib/python3.5/site-packages/nelpydev/objects.py:1212: UserWarning: ignoring signal outside of support\n",
      "/home/shayok/anaconda3/lib/python3.5/site-packages/nelpydev/objects.py:1212: UserWarning: ignoring signal outside of support\n",
      "/home/shayok/anaconda3/lib/python3.5/site-packages/nelpydev/objects.py:1212: UserWarning: ignoring signal outside of support\n"
     ]
    },
    {
     "data": {
      "text/plain": [
       "<matplotlib.axes._subplots.AxesSubplot at 0x7f93c61b3c88>"
      ]
     },
     "execution_count": 21,
     "metadata": {},
     "output_type": "execute_result"
    },
    {
     "data": {
      "image/png": "[encoded data removed]",
      "text/plain": [
       "<matplotlib.figure.Figure at 0x7f93c61c86d8>"
      ]
     },
     "metadata": {},
     "output_type": "display_data"
    }
   ],
   "source": [
    "partialSupportForEtienne = EpochArray([[1200,1200.5], [1201.2,1201.3], [1201.5,1201.8],\n",
    "                                       [1202,1202.2], [1202.5,1203]],fs=1)\n",
    "my_lfp_for_etienne = my_lfp[partialSupportForEtienne]\n",
    "print(my_lfp_for_etienne.tdata[0])\n",
    "print(my_lfp_for_etienne.time[0])\n",
    "print(my_lfp2.tdata[0])\n",
    "print(my_lfp2.time[0])\n",
    "npl.plot(my_lfp_for_etienne)\n",
    "means = [snippet.mean() for snippet in my_lfp_for_etienne]\n",
    "npl.plot(my_lfp_for_etienne.support, means)"
   ]
  },
  {
   "cell_type": "code",
   "execution_count": 18,
   "metadata": {
    "collapsed": false
   },
   "outputs": [
    {
     "name": "stderr",
     "output_type": "stream",
     "text": [
      "/home/shayok/anaconda3/lib/python3.5/site-packages/nelpydev/objects.py:1138: UserWarning: support created with given tdata and sampling rate, fs!\n"
     ]
    },
    {
     "data": {
      "image/png": "[encoded data removed]",
      "text/plain": [
       "<matplotlib.figure.Figure at 0x7f93d67bf898>"
      ]
     },
     "metadata": {},
     "output_type": "display_data"
    },
    {
     "data": {
      "image/png": "[encoded data removed]",
      "text/plain": [
       "<matplotlib.figure.Figure at 0x7f93c624f908>"
      ]
     },
     "metadata": {},
     "output_type": "display_data"
    },
    {
     "data": {
      "text/plain": [
       "<EpochArray at 0x7f93d67bf7f0: 1 epoch> totaling 199.999666667 seconds"
      ]
     },
     "execution_count": 18,
     "metadata": {},
     "output_type": "execute_result"
    }
   ],
   "source": [
    "fakexdata = 3000*1200 + np.arange(0,len(lfp))\n",
    "my_lfp1234 = AnalogSignal(lfp, tdata=fakexdata, fs=3000)\n",
    "plt.plot(my_lfp1234.time, my_lfp1234.ydata)\n",
    "plt.show()\n",
    "plt.plot(my_lfp1234.clip(-500,500).time, my_lfp1234.clip(-500,500).ydata)\n",
    "plt.show()\n",
    "my_lfp1234.support"
   ]
  },
  {
   "cell_type": "code",
   "execution_count": 19,
   "metadata": {
    "collapsed": false
   },
   "outputs": [
    {
     "name": "stdout",
     "output_type": "stream",
     "text": [
      "base <AnalogSignal  at 0x7f93c62f62b0: 1 epoch> totalling 199.999666667 seconds\n",
      "base <AnalogSignal  at 0x7f93c62df128: 1 epoch> totalling 199.999666667 seconds\n"
     ]
    }
   ],
   "source": [
    "my_lfpCOPY = my_lfp1234.copy()\n",
    "print(my_lfpCOPY)\n",
    "print(my_lfp1234)"
   ]
  }
 ],
 "metadata": {
  "anaconda-cloud": {},
  "kernelspec": {
   "display_name": "Python [Root]",
   "language": "python",
   "name": "Python [Root]"
  },
  "language_info": {
   "codemirror_mode": {
    "name": "ipython",
    "version": 3
   },
   "file_extension": ".py",
   "mimetype": "text/x-python",
   "name": "python",
   "nbconvert_exporter": "python",
   "pygments_lexer": "ipython3",
   "version": "3.5.2"
  }
 },
 "nbformat": 4,
 "nbformat_minor": 0
}
