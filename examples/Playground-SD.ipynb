{
 "cells": [
  {
   "cell_type": "code",
   "execution_count": 1,
   "metadata": {
    "collapsed": false
   },
   "outputs": [],
   "source": [
    "import numpy as np\n",
    "import matplotlib as mpl\n",
    "import matplotlib.pyplot as plt\n",
    "\n",
    "import nelpydev as nel  # recommended import for nelpy\n",
    "import nelpydev.plotting as npl  # recommended import for the nelpy plotting library\n",
    "\n",
    "%matplotlib inline\n",
    "\n",
    "from nelpydev import EpochArray, AnalogSignal, SpikeTrain, SpikeTrainArray, BinnedSpikeTrain, BinnedSpikeTrainArray"
   ]
  },
  {
   "cell_type": "code",
   "execution_count": 2,
   "metadata": {
    "collapsed": false
   },
   "outputs": [
    {
     "data": {
      "text/plain": [
       "<module 'nelpydev' from '/home/shayok/anaconda3/lib/python3.5/site-packages/nelpydev/__init__.py'>"
      ]
     },
     "execution_count": 2,
     "metadata": {},
     "output_type": "execute_result"
    }
   ],
   "source": [
    "nel"
   ]
  },
  {
   "cell_type": "code",
   "execution_count": 3,
   "metadata": {
    "collapsed": false
   },
   "outputs": [
    {
     "data": {
      "image/png": "[encoded data removed]",
      "text/plain": [
       "<matplotlib.figure.Figure at 0x7f633c10bda0>"
      ]
     },
     "metadata": {},
     "output_type": "display_data"
    }
   ],
   "source": [
    "myFile = np.load('/home/shayok/Downloads/LFP.npz')\n",
    "lfp = myFile['dataT2C1']*0.195\n",
    "onlineRippleDetect = myFile['onlineRippleDetect']\n",
    "offlineRippleDetect = myFile['offlineRippleDetections']\n",
    "timeStampsSeconds = myFile['timeStampsSeconds']\n",
    "timeStamps = myFile['timeStamps']\n",
    "plt.plot(timeStampsSeconds,lfp)\n",
    "plt.show()"
   ]
  },
  {
   "cell_type": "code",
   "execution_count": 4,
   "metadata": {
    "collapsed": false,
    "scrolled": false
   },
   "outputs": [
    {
     "name": "stdout",
     "output_type": "stream",
     "text": [
      "Mean\n",
      "-0.1089335\n",
      "-0.1089335\n",
      "Standard Deviation\n",
      "135.264969471\n",
      "135.264969471\n",
      "min\n",
      "-1338.87\n",
      "-1338.87\n",
      "max\n",
      "1087.905\n",
      "1087.905\n"
     ]
    },
    {
     "name": "stderr",
     "output_type": "stream",
     "text": [
      "/home/shayok/anaconda3/lib/python3.5/site-packages/nelpydev/objects.py:842: UserWarning: support created with given ydata! support is entire signal\n",
      "  warnings.warn(\"support created with given ydata! support is entire signal\")\n"
     ]
    }
   ],
   "source": [
    "#Check if just ydata works\n",
    "my_lfp = AnalogSignal(lfp)\n",
    "print(\"Mean\")\n",
    "print(my_lfp.mean())\n",
    "print(np.mean(lfp))\n",
    "print(\"Standard Deviation\")\n",
    "print(my_lfp.std())\n",
    "print(np.std(lfp))\n",
    "print(\"min\")\n",
    "print(my_lfp.min())\n",
    "print(np.min(lfp))\n",
    "print(\"max\")\n",
    "print(my_lfp.max())\n",
    "print(np.max(lfp))"
   ]
  },
  {
   "cell_type": "code",
   "execution_count": 5,
   "metadata": {
    "collapsed": false
   },
   "outputs": [
    {
     "name": "stdout",
     "output_type": "stream",
     "text": [
      "0\n",
      "599999\n"
     ]
    },
    {
     "name": "stderr",
     "output_type": "stream",
     "text": [
      "/home/shayok/anaconda3/lib/python3.5/site-packages/nelpydev/objects.py:266: UserWarning: No sampling frequency has been specified!\n",
      "  warnings.warn(\"No sampling frequency has been specified!\")\n",
      "/home/shayok/anaconda3/lib/python3.5/site-packages/nelpydev/objects.py:255: UserWarning: meta data is not available\n",
      "  warnings.warn(\"meta data is not available\")\n",
      "/home/shayok/anaconda3/lib/python3.5/site-packages/nelpydev/objects.py:934: UserWarning: No sampling frequency has been specified\n",
      "  warnings.warn(\"No sampling frequency has been specified\")\n",
      "/home/shayok/anaconda3/lib/python3.5/site-packages/nelpydev/objects.py:814: UserWarning: support created with specified epoch array but no specified sampling rate\n",
      "  warnings.warn(\"support created with specified epoch array but no specified sampling rate\")\n"
     ]
    }
   ],
   "source": [
    "#should be warning since we don't have xdata and fs\n",
    "#and now we're trying to get an epoch where we only have one\n",
    "my_lfp2 = my_lfp[0]"
   ]
  },
  {
   "cell_type": "code",
   "execution_count": 6,
   "metadata": {
    "collapsed": false
   },
   "outputs": [
    {
     "name": "stdout",
     "output_type": "stream",
     "text": [
      "36019940\n",
      "36019950\n"
     ]
    }
   ],
   "source": [
    "print(timeStamps[0])\n",
    "print(timeStamps[1])"
   ]
  },
  {
   "cell_type": "code",
   "execution_count": 7,
   "metadata": {
    "collapsed": false,
    "scrolled": true
   },
   "outputs": [
    {
     "name": "stdout",
     "output_type": "stream",
     "text": [
      "Mean\n",
      "-0.1089335\n",
      "-0.1089335\n",
      "Standard Deviation\n",
      "135.264969471\n",
      "135.264969471\n",
      "min\n",
      "-1338.87\n",
      "-1338.87\n",
      "max\n",
      "1087.905\n",
      "1087.905\n",
      "0.0\n",
      "42019930.0\n"
     ]
    },
    {
     "name": "stderr",
     "output_type": "stream",
     "text": [
      "/home/shayok/anaconda3/lib/python3.5/site-packages/nelpydev/objects.py:817: UserWarning: support created with just xdata! no sampling rate specified so support is entire range of signal\n",
      "  warnings.warn(\"support created with just xdata! no sampling rate specified so support is entire range of signal\")\n",
      "/home/shayok/anaconda3/lib/python3.5/site-packages/nelpydev/objects.py:266: UserWarning: No sampling frequency has been specified!\n",
      "  warnings.warn(\"No sampling frequency has been specified!\")\n",
      "/home/shayok/anaconda3/lib/python3.5/site-packages/nelpydev/objects.py:255: UserWarning: meta data is not available\n",
      "  warnings.warn(\"meta data is not available\")\n",
      "/home/shayok/anaconda3/lib/python3.5/site-packages/nelpydev/objects.py:934: UserWarning: No sampling frequency has been specified\n",
      "  warnings.warn(\"No sampling frequency has been specified\")\n",
      "/home/shayok/anaconda3/lib/python3.5/site-packages/nelpydev/objects.py:814: UserWarning: support created with specified epoch array but no specified sampling rate\n",
      "  warnings.warn(\"support created with specified epoch array but no specified sampling rate\")\n"
     ]
    }
   ],
   "source": [
    "#alright, check if ydata and xdata works\n",
    "my_lfp = AnalogSignal(lfp,xdata=timeStamps)\n",
    "print(\"Mean\")\n",
    "print(my_lfp.mean())\n",
    "print(np.mean(lfp))\n",
    "print(\"Standard Deviation\")\n",
    "print(my_lfp.std())\n",
    "print(np.std(lfp))\n",
    "print(\"min\")\n",
    "print(my_lfp.min())\n",
    "print(np.min(lfp))\n",
    "print(\"max\")\n",
    "print(my_lfp.max())\n",
    "print(np.max(lfp))\n",
    "\n",
    "#should be warning since we don't have xdata and fs\n",
    "#and now we're trying to get an epoch where we only have one\n",
    "my_lfp2 = my_lfp[0]"
   ]
  },
  {
   "cell_type": "code",
   "execution_count": 8,
   "metadata": {
    "collapsed": false
   },
   "outputs": [
    {
     "name": "stdout",
     "output_type": "stream",
     "text": [
      "36019940\n",
      "1200.66466667\n",
      "1200.00016667\n",
      "1399.99983333\n"
     ]
    }
   ],
   "source": [
    "print(timeStamps[0])\n",
    "print(timeStamps[0]/30000)\n",
    "print(timeStampsSeconds[0])\n",
    "print(timeStampsSeconds[timeStamps.size-1])"
   ]
  },
  {
   "cell_type": "code",
   "execution_count": 9,
   "metadata": {
    "collapsed": false
   },
   "outputs": [
    {
     "name": "stdout",
     "output_type": "stream",
     "text": [
      "1200\n",
      "1400\n"
     ]
    },
    {
     "name": "stderr",
     "output_type": "stream",
     "text": [
      "/home/shayok/anaconda3/lib/python3.5/site-packages/nelpydev/objects.py:877: UserWarning: ignoring signal outside of support\n",
      "  'ignoring signal outside of support')\n"
     ]
    },
    {
     "data": {
      "text/plain": [
       "[<matplotlib.lines.Line2D at 0x7f635015cd30>]"
      ]
     },
     "execution_count": 9,
     "metadata": {},
     "output_type": "execute_result"
    },
    {
     "data": {
      "image/png": "[encoded data removed]",
      "text/plain": [
       "<matplotlib.figure.Figure at 0x7f6365f5b908>"
      ]
     },
     "metadata": {},
     "output_type": "display_data"
    }
   ],
   "source": [
    "#Aight, let's do this forreals\n",
    "fullSupport = EpochArray([1200,1400])\n",
    "my_lfp = AnalogSignal(lfp,xdata=timeStamps,fs=30000, support=fullSupport)\n",
    "plt.plot(my_lfp.time, my_lfp.ydata)"
   ]
  },
  {
   "cell_type": "code",
   "execution_count": 10,
   "metadata": {
    "collapsed": false
   },
   "outputs": [
    {
     "name": "stdout",
     "output_type": "stream",
     "text": [
      "1200\n",
      "1400\n",
      "<AnalogSignal: 1 epoch> totalling 200 seconds\n"
     ]
    },
    {
     "name": "stderr",
     "output_type": "stream",
     "text": [
      "/home/shayok/anaconda3/lib/python3.5/site-packages/nelpydev/objects.py:266: UserWarning: No sampling frequency has been specified!\n",
      "  warnings.warn(\"No sampling frequency has been specified!\")\n",
      "/home/shayok/anaconda3/lib/python3.5/site-packages/nelpydev/objects.py:255: UserWarning: meta data is not available\n",
      "  warnings.warn(\"meta data is not available\")\n"
     ]
    }
   ],
   "source": [
    "print(my_lfp[0])"
   ]
  },
  {
   "cell_type": "code",
   "execution_count": 11,
   "metadata": {
    "collapsed": false
   },
   "outputs": [
    {
     "name": "stdout",
     "output_type": "stream",
     "text": [
      "moo\n"
     ]
    },
    {
     "name": "stderr",
     "output_type": "stream",
     "text": [
      "/home/shayok/anaconda3/lib/python3.5/site-packages/nelpydev/objects.py:266: UserWarning: No sampling frequency has been specified!\n",
      "  warnings.warn(\"No sampling frequency has been specified!\")\n",
      "/home/shayok/anaconda3/lib/python3.5/site-packages/nelpydev/objects.py:255: UserWarning: meta data is not available\n",
      "  warnings.warn(\"meta data is not available\")\n",
      "/home/shayok/anaconda3/lib/python3.5/site-packages/nelpydev/objects.py:91: UserWarning: unsupported type; creating empty EpochArray\n",
      "  warnings.warn(\"unsupported type; creating empty EpochArray\")\n",
      "/home/shayok/anaconda3/lib/python3.5/site-packages/nelpydev/objects.py:1008: UserWarning: Index resulted in empty epoch array\n",
      "  warnings.warn(\"Index resulted in empty epoch array\")\n"
     ]
    }
   ],
   "source": [
    "partialSupport = EpochArray([[1200,1250], [1270,1290], [1345,1370],[1380,1399]])\n",
    "my_lfp2 = my_lfp[partialSupport]"
   ]
  },
  {
   "cell_type": "code",
   "execution_count": 12,
   "metadata": {
    "collapsed": false
   },
   "outputs": [
    {
     "name": "stdout",
     "output_type": "stream",
     "text": [
      "None\n"
     ]
    }
   ],
   "source": [
    "print(my_lfp2)"
   ]
  }
 ],
 "metadata": {
  "anaconda-cloud": {},
  "kernelspec": {
   "display_name": "Python [Root]",
   "language": "python",
   "name": "Python [Root]"
  },
  "language_info": {
   "codemirror_mode": {
    "name": "ipython",
    "version": 3
   },
   "file_extension": ".py",
   "mimetype": "text/x-python",
   "name": "python",
   "nbconvert_exporter": "python",
   "pygments_lexer": "ipython3",
   "version": "3.5.2"
  }
 },
 "nbformat": 4,
 "nbformat_minor": 0
}
