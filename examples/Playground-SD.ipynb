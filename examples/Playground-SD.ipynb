{
 "cells": [
  {
   "cell_type": "code",
   "execution_count": 1,
   "metadata": {
    "collapsed": false
   },
   "outputs": [],
   "source": [
    "import numpy as np\n",
    "from scipy import interpolate\n",
    "import matplotlib as mpl\n",
    "import matplotlib.pyplot as plt\n",
    "import scipy.io\n",
    "\n",
    "import nelpy as nel  # recommended import for nelpy\n",
    "import nelpy.plotting as npl  # recommended import for the nelpy plotting library\n",
    "\n",
    "%matplotlib inline\n",
    "\n",
    "from nelpy import EpochArray, AnalogSignalArray, SpikeTrainArray, BinnedSpikeTrainArray"
   ]
  },
  {
   "cell_type": "code",
   "execution_count": 2,
   "metadata": {
    "collapsed": false,
    "scrolled": true
   },
   "outputs": [
    {
     "data": {
      "text/plain": [
       "<module 'nelpy' from '/home/shayok/Documents/Code/nelpy/nelpy/__init__.py'>"
      ]
     },
     "execution_count": 2,
     "metadata": {},
     "output_type": "execute_result"
    }
   ],
   "source": [
    "nel"
   ]
  },
  {
   "cell_type": "markdown",
   "metadata": {},
   "source": [
    "# TODO\n",
    "1. Look at SpikeTrainArray<br>\n",
    "2. Implement remaining \"Stuff to add\" <br>\n",
    "3. Scrutinize ASA in terms of efficiency and check for obvious improvements<br>\n",
    "4. Push changes!<br>\n",
    "5. Test out filtering stuff<br>\n",
    "6. Add in ripple detection functions <br>\n",
    "7. Add in Trodes data extraction <br>"
   ]
  },
  {
   "cell_type": "markdown",
   "metadata": {},
   "source": [
    "# Stuff to add\n",
    "- support single values ASA([1]) -- DONE!<br>\n",
    "- empty values ASA([]) -- FIXED!<br>\n",
    "- out of bounds errors! -- FIXED!<br>\n",
    "- Subset functionality https://github.com/eackermann/nelpy/issues/126<br>\n",
    "- mean, std, min, max, with axis flag https://github.com/eackermann/nelpy/issues/127 -- DONE!<br>\n",
    "- empty object pattern and attributes....https://github.com/eackermann/nelpy/issues/85"
   ]
  },
  {
   "cell_type": "markdown",
   "metadata": {},
   "source": [
    "# Bugs found\n",
    "- Time for multidimensional data without timestamps or time stamps in seconds provided may not have been calculated correctly -- FIXED <br><br>"
   ]
  },
  {
   "cell_type": "markdown",
   "metadata": {},
   "source": [
    "# Basic AnalogSignalArray Functionality"
   ]
  },
  {
   "cell_type": "markdown",
   "metadata": {},
   "source": [
    "## Just tryin to break it a lil bit"
   ]
  },
  {
   "cell_type": "code",
   "execution_count": 3,
   "metadata": {
    "collapsed": false
   },
   "outputs": [
    {
     "data": {
      "text/plain": [
       "<empty AnalogSignal at 0x7f81b1184c88>"
      ]
     },
     "execution_count": 3,
     "metadata": {},
     "output_type": "execute_result"
    }
   ],
   "source": [
    "my_lfp = AnalogSignalArray([])\n",
    "# my_lfp.ydata\n",
    "# my_lfp.support\n",
    "my_lfp"
   ]
  },
  {
   "cell_type": "code",
   "execution_count": 4,
   "metadata": {
    "collapsed": false
   },
   "outputs": [
    {
     "ename": "TypeError",
     "evalue": "Unsupported type! integer or floating point expected",
     "output_type": "error",
     "traceback": [
      "\u001b[1;31m---------------------------------------------------------------------------\u001b[0m",
      "\u001b[1;31mValueError\u001b[0m                                Traceback (most recent call last)",
      "\u001b[1;32m/home/shayok/Documents/Code/nelpy/nelpy/objects.py\u001b[0m in \u001b[0;36m__init__\u001b[1;34m(self, ydata, tdata, fs, support, step, fs_meta, empty)\u001b[0m\n\u001b[0;32m   1361\u001b[0m             \u001b[1;32melse\u001b[0m\u001b[1;33m:\u001b[0m\u001b[1;33m\u001b[0m\u001b[0m\n\u001b[1;32m-> 1362\u001b[1;33m                 \u001b[0mydata\u001b[0m \u001b[1;33m=\u001b[0m \u001b[0mnp\u001b[0m\u001b[1;33m.\u001b[0m\u001b[0marray\u001b[0m\u001b[1;33m(\u001b[0m\u001b[0mydata\u001b[0m\u001b[1;33m)\u001b[0m\u001b[1;33m.\u001b[0m\u001b[0mastype\u001b[0m\u001b[1;33m(\u001b[0m\u001b[0mfloat\u001b[0m\u001b[1;33m)\u001b[0m\u001b[1;33m\u001b[0m\u001b[0m\n\u001b[0m\u001b[0;32m   1363\u001b[0m         \u001b[1;32mexcept\u001b[0m \u001b[0mValueError\u001b[0m\u001b[1;33m:\u001b[0m\u001b[1;33m\u001b[0m\u001b[0m\n",
      "\u001b[1;31mValueError\u001b[0m: could not convert string to float: 'a'",
      "\nDuring handling of the above exception, another exception occurred:\n",
      "\u001b[1;31mTypeError\u001b[0m                                 Traceback (most recent call last)",
      "\u001b[1;32m<ipython-input-4-0f79127b86c0>\u001b[0m in \u001b[0;36m<module>\u001b[1;34m()\u001b[0m\n\u001b[1;32m----> 1\u001b[1;33m \u001b[0masa\u001b[0m \u001b[1;33m=\u001b[0m \u001b[0mAnalogSignalArray\u001b[0m\u001b[1;33m(\u001b[0m\u001b[1;33m[\u001b[0m\u001b[1;34m'a'\u001b[0m\u001b[1;33m]\u001b[0m\u001b[1;33m)\u001b[0m\u001b[1;33m\u001b[0m\u001b[0m\n\u001b[0m\u001b[0;32m      2\u001b[0m \u001b[0masa\u001b[0m\u001b[1;33m\u001b[0m\u001b[0m\n",
      "\u001b[1;32m/home/shayok/Documents/Code/nelpy/nelpy/objects.py\u001b[0m in \u001b[0;36m__init__\u001b[1;34m(self, ydata, tdata, fs, support, step, fs_meta, empty)\u001b[0m\n\u001b[0;32m   1362\u001b[0m                 \u001b[0mydata\u001b[0m \u001b[1;33m=\u001b[0m \u001b[0mnp\u001b[0m\u001b[1;33m.\u001b[0m\u001b[0marray\u001b[0m\u001b[1;33m(\u001b[0m\u001b[0mydata\u001b[0m\u001b[1;33m)\u001b[0m\u001b[1;33m.\u001b[0m\u001b[0mastype\u001b[0m\u001b[1;33m(\u001b[0m\u001b[0mfloat\u001b[0m\u001b[1;33m)\u001b[0m\u001b[1;33m\u001b[0m\u001b[0m\n\u001b[0;32m   1363\u001b[0m         \u001b[1;32mexcept\u001b[0m \u001b[0mValueError\u001b[0m\u001b[1;33m:\u001b[0m\u001b[1;33m\u001b[0m\u001b[0m\n\u001b[1;32m-> 1364\u001b[1;33m             \u001b[1;32mraise\u001b[0m \u001b[0mTypeError\u001b[0m\u001b[1;33m(\u001b[0m\u001b[1;34m\"Unsupported type! integer or floating point expected\"\u001b[0m\u001b[1;33m)\u001b[0m\u001b[1;33m\u001b[0m\u001b[0m\n\u001b[0m\u001b[0;32m   1365\u001b[0m         \u001b[0mydata\u001b[0m \u001b[1;33m=\u001b[0m \u001b[0mnp\u001b[0m\u001b[1;33m.\u001b[0m\u001b[0mtranspose\u001b[0m\u001b[1;33m(\u001b[0m\u001b[0mydata\u001b[0m\u001b[1;33m)\u001b[0m\u001b[1;33m\u001b[0m\u001b[0m\n\u001b[0;32m   1366\u001b[0m         \u001b[0mself\u001b[0m\u001b[1;33m.\u001b[0m\u001b[0m_step\u001b[0m \u001b[1;33m=\u001b[0m \u001b[0mstep\u001b[0m\u001b[1;33m\u001b[0m\u001b[0m\n",
      "\u001b[1;31mTypeError\u001b[0m: Unsupported type! integer or floating point expected"
     ]
    }
   ],
   "source": [
    "asa = AnalogSignalArray(['a'])\n",
    "asa"
   ]
  },
  {
   "cell_type": "code",
   "execution_count": 5,
   "metadata": {
    "collapsed": false
   },
   "outputs": [
    {
     "name": "stderr",
     "output_type": "stream",
     "text": [
      "/home/shayok/Documents/Code/nelpy/nelpy/objects.py:1472: UserWarning: support created with given ydata! support is entire signal\n"
     ]
    },
    {
     "data": {
      "text/plain": [
       "2.0"
      ]
     },
     "execution_count": 5,
     "metadata": {},
     "output_type": "execute_result"
    }
   ],
   "source": [
    "asa = AnalogSignalArray([1,2,3])\n",
    "asa.support.duration"
   ]
  },
  {
   "cell_type": "code",
   "execution_count": 6,
   "metadata": {
    "collapsed": false
   },
   "outputs": [
    {
     "name": "stdout",
     "output_type": "stream",
     "text": [
      "[ 1.  2.  3.]\n",
      "[ 0.  0.  0.]\n",
      "[ 1.  2.  3.]\n",
      "[ 1.  2.  3.]\n"
     ]
    },
    {
     "name": "stderr",
     "output_type": "stream",
     "text": [
      "/home/shayok/Documents/Code/nelpy/nelpy/objects.py:1472: UserWarning: support created with given ydata! support is entire signal\n"
     ]
    },
    {
     "data": {
      "text/plain": [
       "<AnalogSignalArray at 0x7f817798f470: 3 signals> for a total of 0 milliseconds"
      ]
     },
     "execution_count": 6,
     "metadata": {},
     "output_type": "execute_result"
    }
   ],
   "source": [
    "asa = AnalogSignalArray([[1],[2],[3]])\n",
    "print(asa.mean())\n",
    "print(asa.std())\n",
    "print(asa.min())\n",
    "print(asa.max())\n",
    "asa"
   ]
  },
  {
   "cell_type": "code",
   "execution_count": 7,
   "metadata": {
    "collapsed": false
   },
   "outputs": [
    {
     "name": "stderr",
     "output_type": "stream",
     "text": [
      "/home/shayok/Documents/Code/nelpy/nelpy/objects.py:1472: UserWarning: support created with given ydata! support is entire signal\n",
      "/home/shayok/Documents/Code/nelpy/nelpy/objects.py:65: UserWarning: No sampling frequency has been specified!\n",
      "/home/shayok/Documents/Code/nelpy/nelpy/objects.py:65: UserWarning: No sampling frequency has been specified!\n",
      "/home/shayok/Documents/Code/nelpy/nelpy/objects.py:824: UserWarning: meta data is not available\n",
      "/home/shayok/Documents/Code/nelpy/nelpy/objects.py:65: UserWarning: No sampling frequency has been specified!\n",
      "/home/shayok/Documents/Code/nelpy/nelpy/objects.py:824: UserWarning: meta data is not available\n",
      "/home/shayok/Documents/Code/nelpy/nelpy/objects.py:65: UserWarning: No sampling frequency has been specified!\n",
      "/home/shayok/Documents/Code/nelpy/nelpy/objects.py:1027: UserWarning: sampling rates are different; intersecting along time only and throwing away fs\n",
      "/home/shayok/Documents/Code/nelpy/nelpy/objects.py:1493: UserWarning: Support specified is empty\n",
      "/home/shayok/Documents/Code/nelpy/nelpy/objects.py:1683: UserWarning: Support is empty. Empty AnalogSignalArray returned\n"
     ]
    },
    {
     "data": {
      "text/plain": [
       "<empty AnalogSignal at 0x7f817798f240>"
      ]
     },
     "execution_count": 7,
     "metadata": {},
     "output_type": "execute_result"
    }
   ],
   "source": [
    "asa2 = AnalogSignalArray([[1,2],[2,2],[3,2]])\n",
    "asa2[EpochArray([2,3])]"
   ]
  },
  {
   "cell_type": "code",
   "execution_count": 21,
   "metadata": {
    "collapsed": false
   },
   "outputs": [
    {
     "data": {
      "text/plain": [
       "(0,)"
      ]
     },
     "execution_count": 21,
     "metadata": {},
     "output_type": "execute_result"
    }
   ],
   "source": [
    "cow = np.array([[1,3],[2,3]])\n",
    "np.zeros([0]).shape"
   ]
  },
  {
   "cell_type": "code",
   "execution_count": 14,
   "metadata": {
    "collapsed": false
   },
   "outputs": [
    {
     "data": {
      "text/plain": [
       "array([], shape=(2, 0), dtype=float64)"
      ]
     },
     "execution_count": 14,
     "metadata": {},
     "output_type": "execute_result"
    }
   ],
   "source": [
    "cow = nel.SpikeTrainArray([[1,2,3],[4.5]], support=EpochArray(empty=True))\n",
    "cow.time\n"
   ]
  },
  {
   "cell_type": "code",
   "execution_count": 9,
   "metadata": {
    "collapsed": false
   },
   "outputs": [
    {
     "name": "stdout",
     "output_type": "stream",
     "text": [
      "2\n"
     ]
    },
    {
     "name": "stderr",
     "output_type": "stream",
     "text": [
      "/home/shayok/Documents/Code/nelpy/nelpy/objects.py:1493: UserWarning: Support specified is empty\n",
      "/home/shayok/Documents/Code/nelpy/nelpy/objects.py:1435: UserWarning: support created with specified epoch array but no specified sampling rate\n",
      "/home/shayok/Documents/Code/nelpy/nelpy/objects.py:1437: UserWarning: Support is empty. Empty AnalogSignalArray returned\n"
     ]
    }
   ],
   "source": [
    "asa = nel.AnalogSignalArray([[3,4,5],[5,6,7]], tdata=[2,3,4], support=nel.EpochArray(empty=True))\n",
    "print(asa.n_signals)"
   ]
  },
  {
   "cell_type": "markdown",
   "metadata": {},
   "source": [
    "## Ting Data"
   ]
  },
  {
   "cell_type": "code",
   "execution_count": null,
   "metadata": {
    "collapsed": false
   },
   "outputs": [],
   "source": [
    "tingData = scipy.io.loadmat(\"/home/shayok/Downloads/simiplified(Newton, 2015-03-11_15-09-22).mat\")\n",
    "eeg = tingData[\"eeg\"]\n",
    "eegTimeStamps = tingData[\"eegtimestamp\"]"
   ]
  },
  {
   "cell_type": "code",
   "execution_count": null,
   "metadata": {
    "collapsed": false
   },
   "outputs": [],
   "source": [
    "plt.plot(eegTimeStamps, eeg)\n",
    "plt.show()"
   ]
  },
  {
   "cell_type": "code",
   "execution_count": null,
   "metadata": {
    "collapsed": false
   },
   "outputs": [],
   "source": [
    "my_time_series = AnalogSignalArray([eeg],tdata=eegTimeStamps,)\n",
    "npl.plot(my_time_series)\n",
    "plt.show()\n",
    "plt.plot(eegTimeStamps, eeg)\n",
    "my_time_series"
   ]
  },
  {
   "cell_type": "code",
   "execution_count": null,
   "metadata": {
    "collapsed": false
   },
   "outputs": [],
   "source": [
    "my_time_series.support.durations"
   ]
  },
  {
   "cell_type": "code",
   "execution_count": null,
   "metadata": {
    "collapsed": false
   },
   "outputs": [],
   "source": [
    "my_time_series.support.merge(gap=0.1)"
   ]
  },
  {
   "cell_type": "code",
   "execution_count": null,
   "metadata": {
    "collapsed": false
   },
   "outputs": [],
   "source": [
    "my_time_series._support = my_time_series.support.merge(gap=0.1)\n",
    "my_time_series.support.durations"
   ]
  },
  {
   "cell_type": "code",
   "execution_count": null,
   "metadata": {
    "collapsed": false
   },
   "outputs": [],
   "source": [
    "my_time_series"
   ]
  },
  {
   "cell_type": "markdown",
   "metadata": {},
   "source": [
    "## My Data"
   ]
  },
  {
   "cell_type": "code",
   "execution_count": null,
   "metadata": {
    "collapsed": false
   },
   "outputs": [],
   "source": [
    "myFile = np.load('/home/shayok/Downloads/LFP.npz')\n",
    "lfp = myFile['dataT2C1']*0.195\n",
    "onlineRippleDetect = myFile['onlineRippleDetect']\n",
    "offlineRippleDetect = myFile['offlineRippleDetections']\n",
    "timeStampsSeconds = myFile['timeStampsSeconds']\n",
    "timeStamps = myFile['timeStamps']\n",
    "plt.plot(timeStampsSeconds,lfp)\n",
    "plt.show()"
   ]
  },
  {
   "cell_type": "code",
   "execution_count": null,
   "metadata": {
    "collapsed": false,
    "scrolled": true
   },
   "outputs": [],
   "source": [
    "my_lfp = AnalogSignalArray([lfp],tdata=timeStamps,fs=30000,step=10)\n",
    "print(\"Mean\")\n",
    "print(my_lfp.mean())\n",
    "print(np.mean(np.transpose([lfp,onlineRippleDetect]),axis=0))\n",
    "print(\"Standard Deviation\")\n",
    "print(my_lfp.std())\n",
    "print(np.std(np.transpose([lfp,onlineRippleDetect]),axis=0))\n",
    "print(\"min\")\n",
    "print(my_lfp.min())\n",
    "print(np.amin(np.transpose([lfp,onlineRippleDetect]),axis=0))\n",
    "print(\"max\")\n",
    "print(my_lfp.max())\n",
    "print(np.amax(np.transpose([lfp,onlineRippleDetect]),axis=0))"
   ]
  },
  {
   "cell_type": "code",
   "execution_count": null,
   "metadata": {
    "collapsed": false
   },
   "outputs": [],
   "source": [
    "npl.plot(my_lfp)"
   ]
  },
  {
   "cell_type": "code",
   "execution_count": null,
   "metadata": {
    "collapsed": false
   },
   "outputs": [],
   "source": [
    "etiennes_lfp=AnalogSignalArray([[1,5],[2,5,],[3,5]])\n",
    "etiennes_lfp.min()"
   ]
  },
  {
   "cell_type": "code",
   "execution_count": null,
   "metadata": {
    "collapsed": false
   },
   "outputs": [],
   "source": [
    "my_lfp.n_signals"
   ]
  },
  {
   "cell_type": "code",
   "execution_count": null,
   "metadata": {
    "collapsed": false,
    "scrolled": true
   },
   "outputs": [],
   "source": [
    "partialSupport = EpochArray([[1200,1250], [1270,1290], [1345,1370],[1380,1399]],fs=1)\n",
    "my_lfp = AnalogSignalArray([lfp,onlineRippleDetect,offlineRippleDetect],tdata=timeStamps,support=partialSupport,fs=30000,step=10)\n",
    "npl.plot(my_lfp)\n",
    "print(my_lfp.support)\n",
    "my_lfp"
   ]
  },
  {
   "cell_type": "code",
   "execution_count": null,
   "metadata": {
    "collapsed": false
   },
   "outputs": [],
   "source": [
    "my_lfp.support.durations"
   ]
  },
  {
   "cell_type": "code",
   "execution_count": null,
   "metadata": {
    "collapsed": false
   },
   "outputs": [],
   "source": [
    "my_lfp.n_epochs"
   ]
  },
  {
   "cell_type": "code",
   "execution_count": null,
   "metadata": {
    "collapsed": false
   },
   "outputs": [],
   "source": [
    "npl.plot(my_lfp._subset([1,2]))"
   ]
  },
  {
   "cell_type": "code",
   "execution_count": null,
   "metadata": {
    "collapsed": false,
    "scrolled": false
   },
   "outputs": [],
   "source": [
    "clipped_lfp = my_lfp.clip(-1000,1000)\n",
    "npl.plot(clipped_lfp)\n",
    "means = [snippet.mean() for snippet in clipped_lfp]\n",
    "print(means)\n",
    "print(clipped_lfp.support)\n",
    "print(clipped_lfp)\n",
    "npl.plot(clipped_lfp.support, means)"
   ]
  },
  {
   "cell_type": "code",
   "execution_count": null,
   "metadata": {
    "collapsed": false
   },
   "outputs": [],
   "source": [
    "partialSupportForEtienne = EpochArray([[1200,1200.5], [1201.2,1201.3], [1201.5,1201.8],\n",
    "                                       [1202,1202.2], [1202.5,1203]],fs=1)\n",
    "mySuperRestrictedLFP = clipped_lfp[partialSupportForEtienne]\n",
    "npl.plot(mySuperRestrictedLFP)"
   ]
  },
  {
   "cell_type": "code",
   "execution_count": null,
   "metadata": {
    "collapsed": false
   },
   "outputs": [],
   "source": [
    "print(mySuperRestrictedLFP.n_signals, mySuperRestrictedLFP.n_epochs)\n",
    "print(mySuperRestrictedLFP.ydata.shape)\n",
    "print(mySuperRestrictedLFP.mean(), np.mean(mySuperRestrictedLFP.ydata,axis=0))\n",
    "print(np.mean(mySuperRestrictedLFP.ydata,axis=1).shape)"
   ]
  },
  {
   "cell_type": "code",
   "execution_count": null,
   "metadata": {
    "collapsed": false,
    "scrolled": true
   },
   "outputs": [],
   "source": [
    "mynewlfp = clipped_lfp[2]\n",
    "npl.plot(mynewlfp)"
   ]
  },
  {
   "cell_type": "markdown",
   "metadata": {},
   "source": [
    "# Random"
   ]
  },
  {
   "cell_type": "code",
   "execution_count": null,
   "metadata": {
    "collapsed": false
   },
   "outputs": [],
   "source": [
    "cow = np.array([[1,3,3],[3,1,3],[3,1,3],[3,1,2]])\n",
    "cow.shape"
   ]
  },
  {
   "cell_type": "code",
   "execution_count": null,
   "metadata": {
    "collapsed": false
   },
   "outputs": [],
   "source": [
    "cow[:,[0,1]]"
   ]
  },
  {
   "cell_type": "code",
   "execution_count": null,
   "metadata": {
    "collapsed": false
   },
   "outputs": [],
   "source": [
    "cmoo = \"%s cows %s moos\" %(4,56)\n",
    "print(cmoo)"
   ]
  },
  {
   "cell_type": "code",
   "execution_count": null,
   "metadata": {
    "collapsed": false
   },
   "outputs": [],
   "source": [
    "moo = np.squeeze(cow)\n",
    "moo.shape"
   ]
  },
  {
   "cell_type": "code",
   "execution_count": null,
   "metadata": {
    "collapsed": false
   },
   "outputs": [],
   "source": [
    "try:\n",
    "    if(timeStamps.shape[1]==cow.shape[1]):\n",
    "        print(\"moo\")\n",
    "except:\n",
    "    print(\"heyy\")"
   ]
  },
  {
   "cell_type": "markdown",
   "metadata": {},
   "source": [
    "# Interpolation"
   ]
  },
  {
   "cell_type": "code",
   "execution_count": null,
   "metadata": {
    "collapsed": false
   },
   "outputs": [],
   "source": [
    "print(timeStamps[0])\n",
    "print(timeStamps[1])"
   ]
  },
  {
   "cell_type": "code",
   "execution_count": null,
   "metadata": {
    "collapsed": false
   },
   "outputs": [],
   "source": [
    "cow1 = []\n",
    "cow1.append(\"moo\")"
   ]
  },
  {
   "cell_type": "code",
   "execution_count": null,
   "metadata": {
    "collapsed": true
   },
   "outputs": [],
   "source": [
    "interpObj = interpolate.interp1d(timeStampsSeconds, lfp)"
   ]
  },
  {
   "cell_type": "code",
   "execution_count": null,
   "metadata": {
    "collapsed": false
   },
   "outputs": [],
   "source": [
    "xnew = np.arange(timeStampsSeconds[5000],timeStampsSeconds[5010],1/30000)\n",
    "ynew = interpObj(xnew)\n",
    "plt.plot(timeStampsSeconds[5000:5010], lfp[5000:5010],'o',xnew,ynew,'-')\n",
    "plt.show()"
   ]
  },
  {
   "cell_type": "code",
   "execution_count": null,
   "metadata": {
    "collapsed": false
   },
   "outputs": [],
   "source": [
    "print(my_lfp.ydata[5000],lfp[5000])"
   ]
  },
  {
   "cell_type": "code",
   "execution_count": null,
   "metadata": {
    "collapsed": false
   },
   "outputs": [],
   "source": [
    "my_lfp = AnalogSignalArray([lfp],tdata=timeStampsSeconds,)\n",
    "my_lfp"
   ]
  },
  {
   "cell_type": "code",
   "execution_count": null,
   "metadata": {
    "collapsed": false
   },
   "outputs": [],
   "source": [
    "print(np.min(xnew),np.max(xnew))"
   ]
  },
  {
   "cell_type": "code",
   "execution_count": null,
   "metadata": {
    "collapsed": false
   },
   "outputs": [],
   "source": [
    "print(timeStampsSeconds[1993])\n",
    "print(my_lfp.time[3000])\n",
    "print(my_lfp.time[4000])"
   ]
  },
  {
   "cell_type": "code",
   "execution_count": null,
   "metadata": {
    "collapsed": false
   },
   "outputs": [],
   "source": [
    "print(my_lfp.tdata[0]/30000,timeStamps[0]/30000,timeStampsSeconds[0])"
   ]
  },
  {
   "cell_type": "code",
   "execution_count": null,
   "metadata": {
    "collapsed": false
   },
   "outputs": [],
   "source": [
    "ytestnew = my_lfp.interp(xnew)\n",
    "print(xnew.shape)\n",
    "print((ytestnew).shape)\n",
    "plt.plot(my_lfp.time[5000:5010], my_lfp.ydata[5000:5010],'o',xnew,np.squeeze(ytestnew),'-')\n",
    "plt.show()"
   ]
  }
 ],
 "metadata": {
  "anaconda-cloud": {},
  "kernelspec": {
   "display_name": "Python [Root]",
   "language": "python",
   "name": "Python [Root]"
  },
  "language_info": {
   "codemirror_mode": {
    "name": "ipython",
    "version": 3
   },
   "file_extension": ".py",
   "mimetype": "text/x-python",
   "name": "python",
   "nbconvert_exporter": "python",
   "pygments_lexer": "ipython3",
   "version": "3.5.2"
  }
 },
 "nbformat": 4,
 "nbformat_minor": 0
}
