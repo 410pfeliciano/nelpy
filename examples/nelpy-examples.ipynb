{
 "cells": [
  {
   "cell_type": "markdown",
   "metadata": {},
   "source": [
    "# Package `nelpy` example usage"
   ]
  },
  {
   "cell_type": "markdown",
   "metadata": {},
   "source": [
    "The `nelpy` package is based on `python-vdmlab` (https://github.com/vandermeerlab/python-vdmlab) by Emily Irvine, but has been heavily modified."
   ]
  },
  {
   "cell_type": "code",
   "execution_count": 1,
   "metadata": {
    "collapsed": false
   },
   "outputs": [],
   "source": [
    "import sys\n",
    "import numpy as np\n",
    "import matplotlib as mpl\n",
    "import matplotlib.pyplot as plt\n",
    "\n",
    "%matplotlib inline\n",
    "\n",
    "sys.path.insert(0, '../')\n",
    "\n",
    "import nelpy as nel\n",
    "from nelpy.objects import *"
   ]
  },
  {
   "cell_type": "markdown",
   "metadata": {},
   "source": [
    "1. create a spiketrain with samples and fs\n",
    "1. create a spiketrain with time\n",
    "1. create a spiketrain with an explicit epoch array (and explain how implicit epoch arrays work)\n",
    "1. create a spiketrain with an explicit epoch array that is smaller than the extent of the spikes\n",
    "1. shift a spiketrain\n",
    "1. slice a spiketrain with a slice object\n",
    "1. slice a spiketrain with an epoch array\n",
    "1. create an epoch array with samples\n",
    "1. create an epoch array with time\n",
    "1. create an epoch array with fixed duration\n",
    "1. create an epoch array with overlapping epochs\n",
    "1. combine two epoch arrays with the same sampling rate\n",
    "1. combine two epoch arrays with different sampling rates\n",
    "1. change the sampling rate of an object\n",
    "1. change the sampling rate of an object without changing samples / time\n",
    "1. pretty object representation: cell_type, metadata, label\n",
    "1. metadata propagation\n",
    "1. friendly warnings: empty intersection, change of fs, \n",
    "1. recommendations: always use fs, and update metadata dict when creating new objects"
   ]
  },
  {
   "cell_type": "markdown",
   "metadata": {},
   "source": [
    "### Create a spiketrain with `samples` and `fs`"
   ]
  },
  {
   "cell_type": "markdown",
   "metadata": {},
   "source": [
    "Spiketrains can be initialized either with an array of samples and an associated sampling rate (recommended) or with an array of spike times in seconds.\n",
    "\n",
    "Specifying a sampling rate helps to make objects with different sampling rates (e.g. wideband LFP, spike times, video tracking, etc.) all work together seamlessly.\n",
    "\n",
    "A spiketrain also has an associated epoch array on which the spiketrain is defined and valid. This can be inferred implicitly (as in this first example), but is also recommended to be specified explicitly to facilitate easier analysis later on (we'll have examples of this). The basic idea is simply that just because we don't have spikes in a particular [time] segment of the spiketrain does not mean that the cell didn't fire there---it may simply mean that the spiketrain is not defined on that segment. This 'support' of the spiketrain should be used whenever we want to calculate things like average firing rate, etc."
   ]
  },
  {
   "cell_type": "code",
   "execution_count": 2,
   "metadata": {
    "collapsed": false
   },
   "outputs": [],
   "source": [
    "# create example spike times in samples\n",
    "stdata = np.array([1, 2, 3, 4, 5, 6, 6.5, 7, 8, 10, 18, 18.5, 23, 25])\n",
    "st = SpikeTrain(stdata, fs=10)"
   ]
  },
  {
   "cell_type": "markdown",
   "metadata": {},
   "source": [
    "Now `st` is a spiketrain with 14 spikes, which we can easily verify by either printing out our `st` object, or by inspecting its `n_spikes` property:"
   ]
  },
  {
   "cell_type": "code",
   "execution_count": 3,
   "metadata": {
    "collapsed": false
   },
   "outputs": [
    {
     "name": "stdout",
     "output_type": "stream",
     "text": [
      "<SpikeTrain: 14 spikes at 10 Hz>\n",
      "st has 14 spikes\n"
     ]
    },
    {
     "name": "stderr",
     "output_type": "stream",
     "text": [
      "..\\nelpy\\objects.py:934: UserWarning: Cell type has not yet been specified!\n",
      "  warnings.warn(\"Cell type has not yet been specified!\")\n"
     ]
    }
   ],
   "source": [
    "print(st)\n",
    "print('st has {0} spikes'.format(st.n_spikes))"
   ]
  },
  {
   "cell_type": "markdown",
   "metadata": {},
   "source": [
    "Here we can see that (1) printing out `st` actually gives us some additional information, namely the sampling rate. Also notice the warning that was issued about the cell type not having been specified. Warnings can be ignored and should not affect your analyses, but they can be really useful to make sure that you have all the recommended info in your objects, and that you don't do something that you don't intend to do.\n",
    "\n",
    "First, let's quickly get back to the samples-vs-time issue. In general it is highly recommended to create objects using sample numbers and an associated sampling rate (`fs`). However, sample numbers are not strictly required to be integers, but the association between samples and time is simply: time = samples / fs. Each spiketrain object therefore has both a `samples` and a `time` object. If samples == time, then they both point to the same memory. \n",
    "\n",
    "**TODO:** One consideration is to change time to be evaluated lazily, instead of storing it like I do at present. Less memory requirements. Could be useful for large spiketrains. What are some other considerations?\n",
    "\n",
    "Let's take a look at `st.samples` and `st.time`:"
   ]
  },
  {
   "cell_type": "code",
   "execution_count": 4,
   "metadata": {
    "collapsed": false
   },
   "outputs": [
    {
     "data": {
      "text/plain": [
       "array([  1. ,   2. ,   3. ,   4. ,   5. ,   6. ,   6.5,   7. ,   8. ,\n",
       "        10. ,  18. ,  18.5,  23. ,  25. ])"
      ]
     },
     "execution_count": 4,
     "metadata": {},
     "output_type": "execute_result"
    }
   ],
   "source": [
    "st.samples"
   ]
  },
  {
   "cell_type": "code",
   "execution_count": 5,
   "metadata": {
    "collapsed": false
   },
   "outputs": [
    {
     "data": {
      "text/plain": [
       "array([ 0.1 ,  0.2 ,  0.3 ,  0.4 ,  0.5 ,  0.6 ,  0.65,  0.7 ,  0.8 ,\n",
       "        1.  ,  1.8 ,  1.85,  2.3 ,  2.5 ])"
      ]
     },
     "execution_count": 5,
     "metadata": {},
     "output_type": "execute_result"
    }
   ],
   "source": [
    "st.time"
   ]
  },
  {
   "cell_type": "markdown",
   "metadata": {},
   "source": [
    "As we can see, the correspondence is just as described above, namely time = samples / fs.\n",
    "\n",
    "Without jumping ahead too far, notice that each spiketrain has a region of support on which it is defined. Because we did not specify this region of support, it was inferred automatically (default is [0, time-of-last-spike]), but it is better to specify this explicitly whenever possible. Having this support allows us to compute things like the average firing rate as follows:"
   ]
  },
  {
   "cell_type": "code",
   "execution_count": 6,
   "metadata": {
    "collapsed": false
   },
   "outputs": [
    {
     "name": "stdout",
     "output_type": "stream",
     "text": [
      "The duration of st.support is 2.5 seconds.\n",
      "Average firing rate: 5.6 Hz\n"
     ]
    }
   ],
   "source": [
    "print('The duration of st.support is {0:2.4} seconds.'.format(st.support.duration))\n",
    "avgFiringRate = st.n_spikes / st.support.duration\n",
    "print('Average firing rate: {0:2.4} Hz'.format(avgFiringRate))"
   ]
  },
  {
   "cell_type": "markdown",
   "metadata": {},
   "source": [
    "Why is the support so useful? Well, consider a scenario where we defined the support to be when an animal was running faster than some threshold, so the support might have some gaps in it, and the duration is no longer equal to `st.support.stop - st.support.start`. If we had specified our support properly, then we would not have to change anything to compute the average firing rate of the spiketrain associated with this running behavior. Let's look at an example."
   ]
  },
  {
   "cell_type": "code",
   "execution_count": 7,
   "metadata": {
    "collapsed": false
   },
   "outputs": [
    {
     "name": "stderr",
     "output_type": "stream",
     "text": [
      "..\\nelpy\\objects.py:564: UserWarning: ignoring spikes outside of spiketrain support\n",
      "  'ignoring spikes outside of spiketrain support')\n"
     ]
    }
   ],
   "source": [
    "# define epochs during which animal was running\n",
    "runEpoch = EpochArray(np.array([[0,3],[6,8], [24,25]]), fs=10)\n",
    "\n",
    "st = SpikeTrain(stdata, fs=10, support=runEpoch)"
   ]
  },
  {
   "cell_type": "markdown",
   "metadata": {},
   "source": [
    "We obtain a friendly warning that the support that we explicitly specified would cause some spikes to be ignored. This is a useful warning, but in this case, that IS what we want to do, so let's move on.\n",
    "\n",
    "Notice that the spikes contained in `st.samples` now fall nicely in the support region that we specified:"
   ]
  },
  {
   "cell_type": "code",
   "execution_count": 8,
   "metadata": {
    "collapsed": false
   },
   "outputs": [
    {
     "data": {
      "text/plain": [
       "array([  1. ,   2. ,   3. ,   6. ,   6.5,   7. ,   8. ,  25. ])"
      ]
     },
     "execution_count": 8,
     "metadata": {},
     "output_type": "execute_result"
    }
   ],
   "source": [
    "st.samples"
   ]
  },
  {
   "cell_type": "markdown",
   "metadata": {},
   "source": [
    "Also note that even though `st.support.start` and `st.support.stop` is EXACTLY the same as in our previous example, the duration is no longer simply `st.support.stop - st.support.start`."
   ]
  },
  {
   "cell_type": "code",
   "execution_count": 9,
   "metadata": {
    "collapsed": false
   },
   "outputs": [
    {
     "name": "stdout",
     "output_type": "stream",
     "text": [
      "st.support.stop - st.support.start = 2.5 seconds.\n",
      "The duration of st.support is 0.6 seconds.\n",
      "Average firing rate: 13.33 Hz\n"
     ]
    }
   ],
   "source": [
    "print('st.support.stop - st.support.start = {0:2.4} seconds.'.format(st.support.stop - st.support.start))\n",
    "print('The duration of st.support is {0:2.4} seconds.'.format(st.support.duration))\n",
    "avgFiringRate = st.n_spikes / st.support.duration\n",
    "print('Average firing rate: {0:2.4} Hz'.format(avgFiringRate))"
   ]
  },
  {
   "cell_type": "code",
   "execution_count": 10,
   "metadata": {
    "collapsed": false
   },
   "outputs": [
    {
     "data": {
      "text/plain": [
       "<EpochArray: 3 epochs> totaling 0.6 seconds"
      ]
     },
     "execution_count": 10,
     "metadata": {},
     "output_type": "execute_result"
    }
   ],
   "source": [
    "st.support"
   ]
  },
  {
   "cell_type": "code",
   "execution_count": 11,
   "metadata": {
    "collapsed": false
   },
   "outputs": [],
   "source": [
    "ep = EpochArray([])"
   ]
  },
  {
   "cell_type": "code",
   "execution_count": 12,
   "metadata": {
    "collapsed": false
   },
   "outputs": [
    {
     "name": "stdout",
     "output_type": "stream",
     "text": [
      "SpikeTrain\n",
      "==========\n",
      "<SpikeTrain[pyr]: 10 spikes at 4 Hz> <EpochArray: 1 epoch> totaling 2.5 seconds\n",
      "\n",
      "slicing with slice objects and integers\n",
      "==========\n",
      "<SpikeTrain[pyr]: 4 spikes at 4 Hz> <EpochArray: 1 epoch> totaling 0.75 seconds\n",
      "<SpikeTrain[pyr]: 6 spikes at 4 Hz> <EpochArray: 1 epoch> totaling 1.25 seconds\n",
      "<SpikeTrain[pyr]: 6 spikes at 4 Hz> <EpochArray: 1 epoch> totaling 1.25 seconds\n",
      "<empty SpikeTrain> <empty EpochArray>\n",
      "<SpikeTrain[pyr]: 1 spikes at 4 Hz> <EpochArray: 1 epoch> totaling 0.0 seconds\n",
      "<empty SpikeTrain> <empty EpochArray>\n",
      "\n",
      "slicing with EpochArrays\n",
      "==========\n",
      "<empty SpikeTrain> <empty EpochArray>\n",
      "<SpikeTrain[pyr]: 6 spikes at 4 Hz> <EpochArray: 2 epochs> totaling 1.5 seconds\n",
      "<SpikeTrain[pyr]: 5 spikes at 4 Hz> <EpochArray: 2 epochs> totaling 1.25 seconds\n",
      "<SpikeTrain[pyr]: 3 spikes at 4 Hz> <EpochArray: 1 epoch> totaling 0.75 seconds\n",
      "<empty SpikeTrain> <empty EpochArray>\n",
      "<empty SpikeTrain> <empty EpochArray>\n"
     ]
    },
    {
     "name": "stderr",
     "output_type": "stream",
     "text": [
      "..\\nelpy\\objects.py:702: UserWarning: meta data is not available\n",
      "  warnings.warn(\"meta data is not available\")\n",
      "..\\nelpy\\objects.py:165: UserWarning: meta data is not available\n",
      "  warnings.warn(\"meta data is not available\")\n"
     ]
    }
   ],
   "source": [
    "stdata = np.array([1,2,3,4,5,6,6.5,7,8,10])\n",
    "fs = 4\n",
    "st = SpikeTrain(stdata, fs=fs)\n",
    "st.cell_type = 'pyr'\n",
    "ep1 = EpochArray([])\n",
    "ep2 = EpochArray(np.array([[0,3],[7,10]]), fs=fs)\n",
    "ep3 = EpochArray(np.array([[0,3],[8,15]]), fs=fs)\n",
    "ep4 = EpochArray(np.array([[0,3],[17,20]]), fs=fs)\n",
    "ep5 = EpochArray(np.array([[17,20]]), fs=fs)\n",
    "ep6 = EpochArray(np.array([[-17,-10]]), fs=fs)\n",
    "print('SpikeTrain')\n",
    "print('==========')\n",
    "print(st, st.support)\n",
    "print('\\nslicing with slice objects and integers')\n",
    "print('==========')\n",
    "print(st[:4], st[:4].support)\n",
    "print(st[4:], st[4:].support)\n",
    "print(st[4:50], st[4:50].support)\n",
    "print(st[40:], st[40:].support)\n",
    "print(st[-1], st[-1].support)\n",
    "print(st[80], st[80].support)\n",
    "print('\\nslicing with EpochArrays')\n",
    "print('==========')\n",
    "print(st[ep1], st[ep1].support)\n",
    "print(st[ep2], st[ep2].support)\n",
    "print(st[ep3], st[ep3].support)\n",
    "print(st[ep4], st[ep4].support)\n",
    "print(st[ep5], st[ep5].support)\n",
    "print(st[ep6], st[ep6].support)"
   ]
  },
  {
   "cell_type": "code",
   "execution_count": 18,
   "metadata": {
    "collapsed": false
   },
   "outputs": [
    {
     "data": {
      "text/plain": [
       "<empty EpochArray>"
      ]
     },
     "execution_count": 18,
     "metadata": {},
     "output_type": "execute_result"
    }
   ],
   "source": [
    "ep2"
   ]
  },
  {
   "cell_type": "code",
   "execution_count": null,
   "metadata": {
    "collapsed": true
   },
   "outputs": [],
   "source": []
  },
  {
   "cell_type": "code",
   "execution_count": null,
   "metadata": {
    "collapsed": true
   },
   "outputs": [],
   "source": []
  },
  {
   "cell_type": "code",
   "execution_count": null,
   "metadata": {
    "collapsed": true
   },
   "outputs": [],
   "source": []
  },
  {
   "cell_type": "code",
   "execution_count": null,
   "metadata": {
    "collapsed": true
   },
   "outputs": [],
   "source": []
  },
  {
   "cell_type": "code",
   "execution_count": null,
   "metadata": {
    "collapsed": true
   },
   "outputs": [],
   "source": []
  },
  {
   "cell_type": "code",
   "execution_count": null,
   "metadata": {
    "collapsed": true
   },
   "outputs": [],
   "source": []
  },
  {
   "cell_type": "code",
   "execution_count": null,
   "metadata": {
    "collapsed": true
   },
   "outputs": [],
   "source": []
  },
  {
   "cell_type": "markdown",
   "metadata": {},
   "source": [
    "### A somewhat realistic example"
   ]
  },
  {
   "cell_type": "code",
   "execution_count": null,
   "metadata": {
    "collapsed": true
   },
   "outputs": [],
   "source": []
  },
  {
   "cell_type": "code",
   "execution_count": null,
   "metadata": {
    "collapsed": true
   },
   "outputs": [],
   "source": []
  },
  {
   "cell_type": "code",
   "execution_count": null,
   "metadata": {
    "collapsed": true
   },
   "outputs": [],
   "source": []
  },
  {
   "cell_type": "code",
   "execution_count": null,
   "metadata": {
    "collapsed": true
   },
   "outputs": [],
   "source": []
  },
  {
   "cell_type": "code",
   "execution_count": 13,
   "metadata": {
    "collapsed": false
   },
   "outputs": [],
   "source": [
    "from numpy.random import random_sample\n",
    "a = 0\n",
    "b = 1000\n",
    "N = int(1e7)\n",
    "stdata = (b - a) * random_sample((N,)) + a\n",
    "stdata.sort()"
   ]
  },
  {
   "cell_type": "code",
   "execution_count": 14,
   "metadata": {
    "collapsed": false
   },
   "outputs": [
    {
     "name": "stderr",
     "output_type": "stream",
     "text": [
      "..\\nelpy\\objects.py:691: UserWarning: Cell type has not yet been specified!\n",
      "  warnings.warn(\"Cell type has not yet been specified!\")\n"
     ]
    },
    {
     "data": {
      "text/plain": [
       "<SpikeTrain: 10000000 spikes at 10 Hz>"
      ]
     },
     "execution_count": 14,
     "metadata": {},
     "output_type": "execute_result"
    }
   ],
   "source": [
    "# %%timeit\n",
    "st = SpikeTrain(stdata, fs=10)\n",
    "st"
   ]
  },
  {
   "cell_type": "code",
   "execution_count": 15,
   "metadata": {
    "collapsed": false
   },
   "outputs": [
    {
     "name": "stderr",
     "output_type": "stream",
     "text": [
      "..\\nelpy\\objects.py:606: VisibleDeprecationWarning: using a non-integer number instead of an integer will result in an error in the future\n",
      "  [self.samples[start], self.samples[stop]]), fs=self.fs, meta=self.meta)\n",
      "..\\nelpy\\objects.py:662: UserWarning: meta data is not available\n",
      "  warnings.warn(\"meta data is not available\")\n",
      "..\\nelpy\\objects.py:607: VisibleDeprecationWarning: using a non-integer number instead of an integer will result in an error in the future\n",
      "  return SpikeTrain(self.samples[idx],\n",
      "..\\nelpy\\objects.py:651: UserWarning: Cell type has not yet been specified!\n",
      "  warnings.warn(\"Cell type has not yet been specified!\")\n"
     ]
    },
    {
     "data": {
      "text/plain": [
       "<EpochArray: 1 epoch> totaling 10.0218923511 seconds"
      ]
     },
     "execution_count": 15,
     "metadata": {},
     "output_type": "execute_result"
    }
   ],
   "source": [
    "st[:1e6].support"
   ]
  },
  {
   "cell_type": "code",
   "execution_count": 19,
   "metadata": {
    "collapsed": false
   },
   "outputs": [],
   "source": [
    "N = int(1e3)\n",
    "epdata = (b - a) * random_sample((N,)) + a\n",
    "epdata.sort()\n",
    "epdata = epdata.reshape((N // 2, 2))"
   ]
  },
  {
   "cell_type": "code",
   "execution_count": 20,
   "metadata": {
    "collapsed": false
   },
   "outputs": [],
   "source": [
    "epoch = EpochArray(epdata, fs=10)"
   ]
  },
  {
   "cell_type": "code",
   "execution_count": 23,
   "metadata": {
    "collapsed": false
   },
   "outputs": [
    {
     "name": "stderr",
     "output_type": "stream",
     "text": [
      "..\\nelpy\\objects.py:125: UserWarning: meta data is not available\n",
      "  warnings.warn(\"meta data is not available\")\n",
      "..\\nelpy\\objects.py:651: UserWarning: Cell type has not yet been specified!\n",
      "  warnings.warn(\"Cell type has not yet been specified!\")\n",
      "..\\nelpy\\objects.py:662: UserWarning: meta data is not available\n",
      "  warnings.warn(\"meta data is not available\")\n"
     ]
    }
   ],
   "source": [
    "st2 = st[epoch] # this eats up all my memory :( ... approx 9 GB for a 500 EpochArray, and about 1 minute"
   ]
  },
  {
   "cell_type": "code",
   "execution_count": 29,
   "metadata": {
    "collapsed": false
   },
   "outputs": [
    {
     "name": "stderr",
     "output_type": "stream",
     "text": [
      "..\\nelpy\\objects.py:651: UserWarning: Cell type has not yet been specified!\n",
      "  warnings.warn(\"Cell type has not yet been specified!\")\n"
     ]
    },
    {
     "data": {
      "text/plain": [
       "<SpikeTrain: 5168400 spikes at 10 Hz>"
      ]
     },
     "execution_count": 29,
     "metadata": {},
     "output_type": "execute_result"
    }
   ],
   "source": [
    "st2"
   ]
  },
  {
   "cell_type": "code",
   "execution_count": 32,
   "metadata": {
    "collapsed": false
   },
   "outputs": [
    {
     "data": {
      "text/plain": [
       "1.1574074074074074"
      ]
     },
     "execution_count": 32,
     "metadata": {},
     "output_type": "execute_result"
    }
   ],
   "source": [
    "10000000 / 100 /60 /60 /24 # approx days for single SpikeTrain"
   ]
  },
  {
   "cell_type": "code",
   "execution_count": 36,
   "metadata": {
    "collapsed": false
   },
   "outputs": [
    {
     "data": {
      "text/plain": [
       "1"
      ]
     },
     "execution_count": 36,
     "metadata": {},
     "output_type": "execute_result"
    }
   ],
   "source": [
    "np.array([2,3,4]).ndim"
   ]
  },
  {
   "cell_type": "markdown",
   "metadata": {},
   "source": [
    "## Visual examples"
   ]
  },
  {
   "cell_type": "code",
   "execution_count": 17,
   "metadata": {
    "collapsed": true
   },
   "outputs": [],
   "source": [
    "def plotEpochsHatch(ax, epochs, height=1, fc='c', ec='k', alpha=0.5):\n",
    "    import matplotlib.patches as patches\n",
    "    for start, stop in zip(epochs.starts, epochs.stops):\n",
    "        ax.add_patch(\n",
    "            patches.Rectangle(\n",
    "                (start, 0),   # (x,y)\n",
    "                stop - start ,          # width\n",
    "                height,          # height\n",
    "                hatch='////',\n",
    "                facecolor=fc,\n",
    "                edgecolor=ec,\n",
    "                alpha=alpha\n",
    "            )\n",
    "        )\n",
    "    ax.set_xlim([epochs.start, epochs.stop])\n"
   ]
  },
  {
   "cell_type": "code",
   "execution_count": 18,
   "metadata": {
    "collapsed": false
   },
   "outputs": [
    {
     "data": {
      "image/png": "[encoded data removed]",
      "text/plain": [
       "<matplotlib.figure.Figure at 0x24799aa00b8>"
      ]
     },
     "metadata": {},
     "output_type": "display_data"
    }
   ],
   "source": [
    "fig, ax = plt.subplots(1,1, figsize=(10, 2))\n",
    "plotEpochsHatch(ax, ep2)\n",
    "ax.set_xlim([0,3])\n",
    "plotEpochsHatch(ax, ep3, fc='orange')"
   ]
  },
  {
   "cell_type": "code",
   "execution_count": 19,
   "metadata": {
    "collapsed": false
   },
   "outputs": [
    {
     "name": "stderr",
     "output_type": "stream",
     "text": [
      "..\\nelpy\\objects.py:125: UserWarning: meta data is not available\n",
      "  warnings.warn(\"meta data is not available\")\n"
     ]
    },
    {
     "data": {
      "image/png": "[encoded data removed]",
      "text/plain": [
       "<matplotlib.figure.Figure at 0x24799a98898>"
      ]
     },
     "metadata": {},
     "output_type": "display_data"
    }
   ],
   "source": [
    "fig, ax = plt.subplots(1,1, figsize=(10, 2))\n",
    "plotEpochsHatch(ax, ep2.intersect(ep3))"
   ]
  },
  {
   "cell_type": "code",
   "execution_count": 20,
   "metadata": {
    "collapsed": false
   },
   "outputs": [
    {
     "name": "stderr",
     "output_type": "stream",
     "text": [
      "..\\nelpy\\objects.py:125: UserWarning: meta data is not available\n",
      "  warnings.warn(\"meta data is not available\")\n"
     ]
    },
    {
     "data": {
      "image/png": "[encoded data removed]",
      "text/plain": [
       "<matplotlib.figure.Figure at 0x2479a369668>"
      ]
     },
     "metadata": {},
     "output_type": "display_data"
    }
   ],
   "source": [
    "fig, ax = plt.subplots(1,1, figsize=(10, 2))\n",
    "plotEpochsHatch(ax, ep3.intersect(ep2))"
   ]
  },
  {
   "cell_type": "code",
   "execution_count": 21,
   "metadata": {
    "collapsed": false
   },
   "outputs": [],
   "source": [
    "ep1 = EpochArray(np.array([[1,3],[2,6],[12,15]]), fs=3)\n",
    "ep2 = EpochArray(np.array([[1,2],[4,6],[7,10]]), fs=1)\n",
    "ep3 = EpochArray(np.array([[1,2],[4,6],[8,10]]), fs=2.2)\n",
    "ep4 = EpochArray(np.array([1,2,4,6,8,10]),duration=0.1, fs=3)"
   ]
  },
  {
   "cell_type": "code",
   "execution_count": 22,
   "metadata": {
    "collapsed": false
   },
   "outputs": [
    {
     "data": {
      "text/plain": [
       "(0, 10)"
      ]
     },
     "execution_count": 22,
     "metadata": {},
     "output_type": "execute_result"
    },
    {
     "data": {
      "image/png": "[encoded data removed]",
      "text/plain": [
       "<matplotlib.figure.Figure at 0x2479a3d0198>"
      ]
     },
     "metadata": {},
     "output_type": "display_data"
    }
   ],
   "source": [
    "fig, axes = plt.subplots(4,1, figsize=(10, 4))\n",
    "plotEpochsHatch(axes[0], ep1); axes[0].set_xlim([0, 10])\n",
    "plotEpochsHatch(axes[1], ep2); axes[1].set_xlim([0, 10])\n",
    "plotEpochsHatch(axes[2], ep3); axes[2].set_xlim([0, 10])\n",
    "plotEpochsHatch(axes[3], ep4); axes[3].set_xlim([0, 10])"
   ]
  },
  {
   "cell_type": "code",
   "execution_count": 23,
   "metadata": {
    "collapsed": false
   },
   "outputs": [
    {
     "name": "stderr",
     "output_type": "stream",
     "text": [
      "..\\nelpy\\objects.py:125: UserWarning: meta data is not available\n",
      "  warnings.warn(\"meta data is not available\")\n",
      "..\\nelpy\\objects.py:305: UserWarning: sampling rates are different; intersecting along time only and throwing away fs\n",
      "  'sampling rates are different; intersecting along time only and throwing away fs')\n",
      "..\\nelpy\\objects.py:429: UserWarning: sampling rates are different; joining along time only and throwing away fs\n",
      "  'sampling rates are different; joining along time only and throwing away fs')\n",
      "..\\nelpy\\objects.py:136: UserWarning: No sampling frequency has been specified!\n",
      "  warnings.warn(\"No sampling frequency has been specified!\")\n"
     ]
    },
    {
     "data": {
      "text/plain": [
       "(0, 10)"
      ]
     },
     "execution_count": 23,
     "metadata": {},
     "output_type": "execute_result"
    },
    {
     "data": {
      "image/png": "[encoded data removed]",
      "text/plain": [
       "<matplotlib.figure.Figure at 0x2479a551240>"
      ]
     },
     "metadata": {},
     "output_type": "display_data"
    }
   ],
   "source": [
    "fig, axes = plt.subplots(6,1, figsize=(10, 6))\n",
    "plotEpochsHatch(axes[0], ep1.merge()); axes[0].set_xlim([0, 10])\n",
    "plotEpochsHatch(axes[1], ep2.intersect(ep1)); axes[1].set_xlim([0, 10])\n",
    "plotEpochsHatch(axes[2], ep2.join(ep4)); axes[2].set_xlim([0, 10])\n",
    "plotEpochsHatch(axes[3], ep2.join(ep4).merge()); axes[3].set_xlim([0, 10])\n",
    "plotEpochsHatch(axes[4], ep3.intersect(ep4)); axes[4].set_xlim([0, 10])\n",
    "plotEpochsHatch(axes[5], ep1.join(ep2).join(ep3).join(ep4)); axes[5].set_xlim([0, 10])"
   ]
  },
  {
   "cell_type": "markdown",
   "metadata": {},
   "source": [
    "# WHY DID THE IMPLICIT MERGE NOT WORK ABOVE?"
   ]
  },
  {
   "cell_type": "code",
   "execution_count": 24,
   "metadata": {
    "collapsed": false
   },
   "outputs": [
    {
     "name": "stderr",
     "output_type": "stream",
     "text": [
      "..\\nelpy\\objects.py:429: UserWarning: sampling rates are different; joining along time only and throwing away fs\n",
      "  'sampling rates are different; joining along time only and throwing away fs')\n",
      "..\\nelpy\\objects.py:136: UserWarning: No sampling frequency has been specified!\n",
      "  warnings.warn(\"No sampling frequency has been specified!\")\n"
     ]
    }
   ],
   "source": [
    "ep = ep1.join(ep2).join(ep3).join(ep4)"
   ]
  },
  {
   "cell_type": "code",
   "execution_count": 25,
   "metadata": {
    "collapsed": false
   },
   "outputs": [
    {
     "data": {
      "text/plain": [
       "array([[  0.33333333,   1.        ],\n",
       "       [  0.33333333,   0.36666667],\n",
       "       [  0.45454545,   0.90909091],\n",
       "       [  0.66666667,   2.        ],\n",
       "       [  0.66666667,   0.7       ],\n",
       "       [  1.        ,   2.        ],\n",
       "       [  1.33333333,   1.36666667],\n",
       "       [  1.81818182,   2.72727273],\n",
       "       [  2.        ,   2.03333333],\n",
       "       [  2.66666667,   2.7       ],\n",
       "       [  3.33333333,   3.36666667],\n",
       "       [  3.63636364,   4.54545455],\n",
       "       [  4.        ,   5.        ],\n",
       "       [  4.        ,   6.        ],\n",
       "       [  7.        ,  10.        ]])"
      ]
     },
     "execution_count": 25,
     "metadata": {},
     "output_type": "execute_result"
    }
   ],
   "source": [
    "ep.time"
   ]
  },
  {
   "cell_type": "code",
   "execution_count": 26,
   "metadata": {
    "collapsed": false
   },
   "outputs": [
    {
     "name": "stderr",
     "output_type": "stream",
     "text": [
      "..\\nelpy\\objects.py:136: UserWarning: No sampling frequency has been specified!\n",
      "  warnings.warn(\"No sampling frequency has been specified!\")\n",
      "..\\nelpy\\objects.py:125: UserWarning: meta data is not available\n",
      "  warnings.warn(\"meta data is not available\")\n"
     ]
    },
    {
     "data": {
      "text/plain": [
       "<EpochArray: 8 epochs> totaling 9.57878787879 seconds"
      ]
     },
     "execution_count": 26,
     "metadata": {},
     "output_type": "execute_result"
    }
   ],
   "source": [
    "ep.merge()"
   ]
  },
  {
   "cell_type": "code",
   "execution_count": 27,
   "metadata": {
    "collapsed": false
   },
   "outputs": [
    {
     "name": "stderr",
     "output_type": "stream",
     "text": [
      "..\\nelpy\\objects.py:136: UserWarning: No sampling frequency has been specified!\n",
      "  warnings.warn(\"No sampling frequency has been specified!\")\n",
      "..\\nelpy\\objects.py:125: UserWarning: meta data is not available\n",
      "  warnings.warn(\"meta data is not available\")\n"
     ]
    },
    {
     "data": {
      "text/plain": [
       "<EpochArray: 4 epochs> totaling 7.79090909091 seconds"
      ]
     },
     "execution_count": 27,
     "metadata": {},
     "output_type": "execute_result"
    }
   ],
   "source": [
    "ep.merge().merge()"
   ]
  },
  {
   "cell_type": "code",
   "execution_count": null,
   "metadata": {
    "collapsed": true
   },
   "outputs": [],
   "source": []
  },
  {
   "cell_type": "markdown",
   "metadata": {},
   "source": [
    "# merge() problem case:"
   ]
  },
  {
   "cell_type": "code",
   "execution_count": 28,
   "metadata": {
    "collapsed": false
   },
   "outputs": [
    {
     "name": "stdout",
     "output_type": "stream",
     "text": [
      "<EpochArray: 15 epochs> totaling 11.4727272727 seconds\n",
      "<EpochArray: 8 epochs> totaling 9.57878787879 seconds\n",
      "<EpochArray: 4 epochs> totaling 7.79090909091 seconds\n"
     ]
    },
    {
     "name": "stderr",
     "output_type": "stream",
     "text": [
      "..\\nelpy\\objects.py:429: UserWarning: sampling rates are different; joining along time only and throwing away fs\n",
      "  'sampling rates are different; joining along time only and throwing away fs')\n",
      "..\\nelpy\\objects.py:136: UserWarning: No sampling frequency has been specified!\n",
      "  warnings.warn(\"No sampling frequency has been specified!\")\n",
      "..\\nelpy\\objects.py:125: UserWarning: meta data is not available\n",
      "  warnings.warn(\"meta data is not available\")\n"
     ]
    },
    {
     "data": {
      "text/plain": [
       "(0, 10)"
      ]
     },
     "execution_count": 28,
     "metadata": {},
     "output_type": "execute_result"
    },
    {
     "data": {
      "image/png": "[encoded data removed]",
      "text/plain": [
       "<matplotlib.figure.Figure at 0x24799c50b70>"
      ]
     },
     "metadata": {},
     "output_type": "display_data"
    }
   ],
   "source": [
    "ep1 = EpochArray(np.array([[1,3],[2,6],[12,15]]), fs=3)\n",
    "ep2 = EpochArray(np.array([[1,2],[4,6],[7,10]]), fs=1)\n",
    "ep3 = EpochArray(np.array([[1,2],[4,6],[8,10]]), fs=2.2)\n",
    "ep4 = EpochArray(np.array([1,2,4,6,8,10]),duration=0.1, fs=3)\n",
    "ep = ep1.join(ep2).join(ep3).join(ep4)\n",
    "\n",
    "print(ep)\n",
    "print(ep.merge())\n",
    "print(ep.merge().merge())\n",
    "\n",
    "fig, axes = plt.subplots(3,1, figsize=(10, 3))\n",
    "\n",
    "plotEpochsHatch(axes[0], ep); axes[0].set_xlim([0, 10])\n",
    "plotEpochsHatch(axes[1], ep.merge()); axes[1].set_xlim([0, 10])\n",
    "plotEpochsHatch(axes[2], ep.merge().merge()); axes[2].set_xlim([0, 10])"
   ]
  },
  {
   "cell_type": "code",
   "execution_count": null,
   "metadata": {
    "collapsed": false
   },
   "outputs": [],
   "source": []
  },
  {
   "cell_type": "code",
   "execution_count": null,
   "metadata": {
    "collapsed": true
   },
   "outputs": [],
   "source": []
  },
  {
   "cell_type": "code",
   "execution_count": 2,
   "metadata": {
    "collapsed": false
   },
   "outputs": [
    {
     "name": "stderr",
     "output_type": "stream",
     "text": [
      "..\\nelpy\\objects.py:184: UserWarning: meta data is not available\n",
      "  warnings.warn(\"meta data is not available\")\n"
     ]
    }
   ],
   "source": [
    "# create example spike times in samples\n",
    "stdata = np.array([1, 2, 3, 4, 5, 6, 6.5, 7, 8, 10, 18, 18.5, 23, 25])\n",
    "st = SpikeTrain(stdata, fs=10)\n",
    "\n",
    "bst = BinnedSpikeTrain(st, ds=0.625)"
   ]
  },
  {
   "cell_type": "code",
   "execution_count": 11,
   "metadata": {
    "collapsed": false
   },
   "outputs": [
    {
     "data": {
      "text/plain": [
       "False"
      ]
     },
     "execution_count": 11,
     "metadata": {},
     "output_type": "execute_result"
    }
   ],
   "source": [
    "bst.isempty"
   ]
  },
  {
   "cell_type": "code",
   "execution_count": 10,
   "metadata": {
    "collapsed": false
   },
   "outputs": [
    {
     "name": "stderr",
     "output_type": "stream",
     "text": [
      "..\\nelpy\\objects.py:935: UserWarning: Cell type has not yet been specified!\n",
      "  warnings.warn(\"Cell type has not yet been specified!\")\n"
     ]
    },
    {
     "data": {
      "text/plain": [
       "<SpikeTrain: 14 spikes at 10 Hz>"
      ]
     },
     "execution_count": 10,
     "metadata": {},
     "output_type": "execute_result"
    }
   ],
   "source": [
    "st"
   ]
  },
  {
   "cell_type": "markdown",
   "metadata": {},
   "source": [
    "All but the last (righthand-most) bin is half-open. In other words, if bins is:\n",
    "\n",
    "[1, 2, 3, 4]\n",
    "then the first bin is [1, 2) (including 1, but excluding 2) and the second [2, 3). The last bin, however, is [3, 4], which includes 4."
   ]
  },
  {
   "cell_type": "code",
   "execution_count": 2,
   "metadata": {
    "collapsed": true
   },
   "outputs": [],
   "source": [
    "st = np.array([9.1, 11, 13.4, 16.2])"
   ]
  },
  {
   "cell_type": "code",
   "execution_count": 3,
   "metadata": {
    "collapsed": false
   },
   "outputs": [
    {
     "ename": "TypeError",
     "evalue": "spiketrain must be a nelpy.SpikeTrain object.",
     "output_type": "error",
     "traceback": [
      "\u001b[0;31m---------------------------------------------------------------------------\u001b[0m",
      "\u001b[0;31mTypeError\u001b[0m                                 Traceback (most recent call last)",
      "\u001b[0;32m<ipython-input-3-78cd4c01b318>\u001b[0m in \u001b[0;36m<module>\u001b[0;34m()\u001b[0m\n\u001b[0;32m----> 1\u001b[0;31m \u001b[0mbst\u001b[0m \u001b[1;33m=\u001b[0m \u001b[0mBinnedSpikeTrain\u001b[0m\u001b[1;33m(\u001b[0m\u001b[0mst\u001b[0m\u001b[1;33m)\u001b[0m\u001b[1;33m\u001b[0m\u001b[0m\n\u001b[0m",
      "\u001b[0;32mC:\\Etienne\\Dropbox\\code\\nelpy\\nelpy\\objects.py\u001b[0m in \u001b[0;36m__init__\u001b[0;34m(self, spiketrain, ds)\u001b[0m\n\u001b[1;32m   1160\u001b[0m \u001b[1;33m\u001b[0m\u001b[0m\n\u001b[1;32m   1161\u001b[0m         \u001b[1;32mif\u001b[0m \u001b[1;32mnot\u001b[0m \u001b[0misinstance\u001b[0m\u001b[1;33m(\u001b[0m\u001b[0mspiketrain\u001b[0m\u001b[1;33m,\u001b[0m \u001b[0mSpikeTrain\u001b[0m\u001b[1;33m)\u001b[0m\u001b[1;33m:\u001b[0m\u001b[1;33m\u001b[0m\u001b[0m\n\u001b[0;32m-> 1162\u001b[0;31m             \u001b[1;32mraise\u001b[0m \u001b[0mTypeError\u001b[0m\u001b[1;33m(\u001b[0m\u001b[1;34m'spiketrain must be a nelpy.SpikeTrain object.'\u001b[0m\u001b[1;33m)\u001b[0m\u001b[1;33m\u001b[0m\u001b[0m\n\u001b[0m\u001b[1;32m   1163\u001b[0m \u001b[1;33m\u001b[0m\u001b[0m\n\u001b[1;32m   1164\u001b[0m         \u001b[0mself\u001b[0m\u001b[1;33m.\u001b[0m\u001b[0m_ds\u001b[0m \u001b[1;33m=\u001b[0m \u001b[1;32mNone\u001b[0m\u001b[1;33m\u001b[0m\u001b[0m\n",
      "\u001b[0;31mTypeError\u001b[0m: spiketrain must be a nelpy.SpikeTrain object."
     ]
    }
   ],
   "source": [
    "bst = BinnedSpikeTrain(st)"
   ]
  },
  {
   "cell_type": "code",
   "execution_count": 19,
   "metadata": {
    "collapsed": false
   },
   "outputs": [
    {
     "data": {
      "text/plain": [
       "16.5"
      ]
     },
     "execution_count": 19,
     "metadata": {},
     "output_type": "execute_result"
    }
   ],
   "source": [
    "16.2 - (16.2 % 0.5) + 0.5"
   ]
  },
  {
   "cell_type": "code",
   "execution_count": 53,
   "metadata": {
    "collapsed": false
   },
   "outputs": [
    {
     "data": {
      "text/plain": [
       "0.0"
      ]
     },
     "execution_count": 53,
     "metadata": {},
     "output_type": "execute_result"
    }
   ],
   "source": [
    "st.support.start"
   ]
  },
  {
   "cell_type": "code",
   "execution_count": 54,
   "metadata": {
    "collapsed": false
   },
   "outputs": [
    {
     "data": {
      "text/plain": [
       "array([[ 0. ,  2.5]])"
      ]
     },
     "execution_count": 54,
     "metadata": {},
     "output_type": "execute_result"
    }
   ],
   "source": [
    "st.support.time"
   ]
  },
  {
   "cell_type": "code",
   "execution_count": 6,
   "metadata": {
    "collapsed": true
   },
   "outputs": [],
   "source": [
    "def get_bins(ep, ds=0.5):\n",
    "#     start = ep.start - (ep.start % ds)\n",
    "#     start = ep.start - (ep.start / ds - floor(ep.start / ds)) # because e.g., 1 % 0.1 is messed up (precision error)\n",
    "    start = ds * np.floor(ep.start / ds)\n",
    "    num = np.ceil((ep.stop - start) / ds)\n",
    "    stop = start + ds * num\n",
    "    bins = np.linspace(start, stop, num+1)\n",
    "    return bins"
   ]
  },
  {
   "cell_type": "code",
   "execution_count": 126,
   "metadata": {
    "collapsed": false
   },
   "outputs": [
    {
     "data": {
      "text/plain": [
       "array([ 0. ,  0.8,  1.6,  2.4,  3.2])"
      ]
     },
     "execution_count": 126,
     "metadata": {},
     "output_type": "execute_result"
    }
   ],
   "source": [
    "bins = get_bins(st.support, ds=0.8)\n",
    "bins"
   ]
  },
  {
   "cell_type": "code",
   "execution_count": 127,
   "metadata": {
    "collapsed": false
   },
   "outputs": [
    {
     "data": {
      "text/plain": [
       "0.0"
      ]
     },
     "execution_count": 127,
     "metadata": {},
     "output_type": "execute_result"
    }
   ],
   "source": [
    "from math import floor\n",
    "1 / 0.1 - floor(1 / 0.1)"
   ]
  },
  {
   "cell_type": "code",
   "execution_count": 12,
   "metadata": {
    "collapsed": false
   },
   "outputs": [],
   "source": [
    "ep2 = EpochArray(np.array([[1,2],[4,6],[7,10]]), fs=1)"
   ]
  },
  {
   "cell_type": "code",
   "execution_count": 13,
   "metadata": {
    "collapsed": false
   },
   "outputs": [
    {
     "name": "stderr",
     "output_type": "stream",
     "text": [
      "..\\nelpy\\objects.py:808: UserWarning: ignoring spikes outside of spiketrain support\n",
      "  'ignoring spikes outside of spiketrain support')\n"
     ]
    }
   ],
   "source": [
    "st = SpikeTrain(stdata, fs=1, support=ep2)"
   ]
  },
  {
   "cell_type": "code",
   "execution_count": 17,
   "metadata": {
    "collapsed": false
   },
   "outputs": [
    {
     "data": {
      "text/plain": [
       "array([[  1.,   2.],\n",
       "       [  4.,   6.],\n",
       "       [  7.,  10.]])"
      ]
     },
     "execution_count": 17,
     "metadata": {},
     "output_type": "execute_result"
    }
   ],
   "source": [
    "stdata = np.array([1, 2, 3, 4, 5, 6, 6.5, 7, 8, 10, 18, 18.5, 23, 25])\n",
    "ep2 = EpochArray(np.array([[1,2],[4,6],[7,10]]), fs=1)\n",
    "st = SpikeTrain(stdata, fs=1, support=ep2)\n",
    "print(st.support.time)\n",
    "bst = BinnedSpikeTrain(st, ds=2.8)\n",
    "\n",
    "print(bst.bins)"
   ]
  },
  {
   "cell_type": "code",
   "execution_count": 47,
   "metadata": {
    "collapsed": false
   },
   "outputs": [
    {
     "name": "stderr",
     "output_type": "stream",
     "text": [
      "..\\nelpy\\objects.py:184: UserWarning: meta data is not available\n",
      "  warnings.warn(\"meta data is not available\")\n"
     ]
    }
   ],
   "source": [
    "bst = BinnedSpikeTrain(st, ds=1)"
   ]
  },
  {
   "cell_type": "code",
   "execution_count": 48,
   "metadata": {
    "collapsed": false
   },
   "outputs": [
    {
     "data": {
      "text/plain": [
       "array([  1.,   2.,   4.,   5.,   6.,   7.,   8.,   9.,  10.])"
      ]
     },
     "execution_count": 48,
     "metadata": {},
     "output_type": "execute_result"
    }
   ],
   "source": [
    "bst.bins"
   ]
  },
  {
   "cell_type": "code",
   "execution_count": 49,
   "metadata": {
    "collapsed": false
   },
   "outputs": [
    {
     "data": {
      "text/plain": [
       "array([2, 1, 2, 1, 1, 1])"
      ]
     },
     "execution_count": 49,
     "metadata": {},
     "output_type": "execute_result"
    }
   ],
   "source": [
    "bst.data"
   ]
  },
  {
   "cell_type": "code",
   "execution_count": 50,
   "metadata": {
    "collapsed": false
   },
   "outputs": [
    {
     "data": {
      "text/plain": [
       "array([ 1.5,  4.5,  5.5,  7.5,  8.5,  9.5])"
      ]
     },
     "execution_count": 50,
     "metadata": {},
     "output_type": "execute_result"
    }
   ],
   "source": [
    "bst.centers"
   ]
  },
  {
   "cell_type": "code",
   "execution_count": 51,
   "metadata": {
    "collapsed": false
   },
   "outputs": [
    {
     "data": {
      "text/plain": [
       "[<matplotlib.lines.Line2D at 0x132a0f0>]"
      ]
     },
     "execution_count": 51,
     "metadata": {},
     "output_type": "execute_result"
    },
    {
     "data": {
      "image/png": "[encoded data removed]",
      "text/plain": [
       "<matplotlib.figure.Figure at 0x12c22b0>"
      ]
     },
     "metadata": {},
     "output_type": "display_data"
    }
   ],
   "source": [
    "plt.plot(bst.centers, bst.data, 'o')"
   ]
  },
  {
   "cell_type": "code",
   "execution_count": 73,
   "metadata": {
    "collapsed": false
   },
   "outputs": [
    {
     "name": "stdout",
     "output_type": "stream",
     "text": [
      "[[  1.   2.]\n",
      " [  4.   6.]\n",
      " [  7.  10.]]\n"
     ]
    },
    {
     "name": "stderr",
     "output_type": "stream",
     "text": [
      "..\\nelpy\\objects.py:808: UserWarning: ignoring spikes outside of spiketrain support\n",
      "  'ignoring spikes outside of spiketrain support')\n",
      "..\\nelpy\\objects.py:184: UserWarning: meta data is not available\n",
      "  warnings.warn(\"meta data is not available\")\n"
     ]
    },
    {
     "data": {
      "text/plain": [
       "[<matplotlib.lines.Line2D at 0xb111668>]"
      ]
     },
     "execution_count": 73,
     "metadata": {},
     "output_type": "execute_result"
    },
    {
     "data": {
      "image/png": "[encoded data removed]",
      "text/plain": [
       "<matplotlib.figure.Figure at 0xb0bb898>"
      ]
     },
     "metadata": {},
     "output_type": "display_data"
    }
   ],
   "source": [
    "st = SpikeTrain(stdata, fs=1, support=ep2)\n",
    "print(st.support.time)\n",
    "bst = BinnedSpikeTrain(st, ds=0.08)\n",
    "\n",
    "plt.plot(bst.centers, bst.data, 'o')"
   ]
  },
  {
   "cell_type": "code",
   "execution_count": 72,
   "metadata": {
    "collapsed": false
   },
   "outputs": [
    {
     "data": {
      "text/plain": [
       "array([  1.,   2.,   4.,   5.,   6.,   7.,   8.,  10.])"
      ]
     },
     "execution_count": 72,
     "metadata": {},
     "output_type": "execute_result"
    }
   ],
   "source": [
    "st.time"
   ]
  },
  {
   "cell_type": "code",
   "execution_count": 139,
   "metadata": {
    "collapsed": false
   },
   "outputs": [
    {
     "data": {
      "text/plain": [
       "array([ 0.85,  1.19,  1.53,  1.87])"
      ]
     },
     "execution_count": 139,
     "metadata": {},
     "output_type": "execute_result"
    }
   ],
   "source": [
    "bins[:-1] + np.diff(bins) / 2"
   ]
  },
  {
   "cell_type": "code",
   "execution_count": 140,
   "metadata": {
    "collapsed": false
   },
   "outputs": [
    {
     "data": {
      "text/plain": [
       "array([ 0.68,  1.02,  1.36,  1.7 ,  2.04])"
      ]
     },
     "execution_count": 140,
     "metadata": {},
     "output_type": "execute_result"
    }
   ],
   "source": [
    "bins"
   ]
  },
  {
   "cell_type": "code",
   "execution_count": 11,
   "metadata": {
    "collapsed": false
   },
   "outputs": [
    {
     "data": {
      "text/plain": [
       "[0.68, 1.02, 1.3599999999999999, 1.7000000000000002, 2.04]"
      ]
     },
     "execution_count": 11,
     "metadata": {},
     "output_type": "execute_result"
    }
   ],
   "source": [
    "bins.tolist()"
   ]
  },
  {
   "cell_type": "code",
   "execution_count": 26,
   "metadata": {
    "collapsed": false
   },
   "outputs": [],
   "source": [
    "a = np.array((1,2,3))\n",
    "b = np.array((4,5,6))"
   ]
  },
  {
   "cell_type": "code",
   "execution_count": 29,
   "metadata": {
    "collapsed": false
   },
   "outputs": [
    {
     "ename": "TypeError",
     "evalue": "vstack() takes 1 positional argument but 2 were given",
     "output_type": "error",
     "traceback": [
      "\u001b[0;31m---------------------------------------------------------------------------\u001b[0m",
      "\u001b[0;31mTypeError\u001b[0m                                 Traceback (most recent call last)",
      "\u001b[0;32m<ipython-input-29-0996605af325>\u001b[0m in \u001b[0;36m<module>\u001b[0;34m()\u001b[0m\n\u001b[0;32m----> 1\u001b[0;31m \u001b[0mnp\u001b[0m\u001b[1;33m.\u001b[0m\u001b[0mvstack\u001b[0m\u001b[1;33m(\u001b[0m\u001b[0ma\u001b[0m\u001b[1;33m,\u001b[0m\u001b[0mb\u001b[0m\u001b[1;33m)\u001b[0m\u001b[1;33m.\u001b[0m\u001b[0mtranspose\u001b[0m\u001b[1;33m(\u001b[0m\u001b[1;33m)\u001b[0m\u001b[1;33m\u001b[0m\u001b[0m\n\u001b[0m",
      "\u001b[0;31mTypeError\u001b[0m: vstack() takes 1 positional argument but 2 were given"
     ]
    }
   ],
   "source": [
    "np.vstack(a,b).transpose()"
   ]
  }
 ],
 "metadata": {
  "anaconda-cloud": {},
  "kernelspec": {
   "display_name": "Python [conda root]",
   "language": "python",
   "name": "conda-root-py"
  },
  "language_info": {
   "codemirror_mode": {
    "name": "ipython",
    "version": 3
   },
   "file_extension": ".py",
   "mimetype": "text/x-python",
   "name": "python",
   "nbconvert_exporter": "python",
   "pygments_lexer": "ipython3",
   "version": "3.4.4"
  }
 },
 "nbformat": 4,
 "nbformat_minor": 1
}
